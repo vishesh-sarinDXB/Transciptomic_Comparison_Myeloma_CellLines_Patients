{
 "cells": [
  {
   "cell_type": "code",
   "execution_count": 30,
   "metadata": {},
   "outputs": [
    {
     "data": {
      "text/html": [
       "<table>\n",
       "<thead><tr><th scope=col>Sample</th><th scope=col>GENE_NAME</th><th scope=col>ALMC1_DJ_p27</th><th scope=col>ALMC2_DJ_p11</th><th scope=col>AMO1_DSMZ_p8</th><th scope=col>ANBL6_DJ2_p13</th><th scope=col>COLO677_DSMZ_p8</th><th scope=col>Delta47_JCRB_p16</th><th scope=col>DP6_DJ_p7</th><th scope=col>EJM_DSMZ_p9</th><th scope=col>⋯</th><th scope=col>RPMI8226_ATCC_p7</th><th scope=col>SKMM1_p6</th><th scope=col>SKMM2_DSMZ_p17</th><th scope=col>U266_ATCC_p8</th><th scope=col>UTMC2_p6</th><th scope=col>VP6_DJ_p5</th><th scope=col>XG1_p5</th><th scope=col>XG2_p5</th><th scope=col>XG6_p5</th><th scope=col>XG7_p6</th></tr></thead>\n",
       "<tbody>\n",
       "\t<tr><td>ENSG00000000003</td><td>TSPAN6         </td><td>   2           </td><td>   0           </td><td> 100           </td><td>   2           </td><td>   0           </td><td>   0           </td><td>   2           </td><td>  88           </td><td>⋯              </td><td>   2           </td><td>   0           </td><td>   0           </td><td>   0           </td><td>   0           </td><td>   0           </td><td>   0           </td><td>   0           </td><td>   2           </td><td>  114          </td></tr>\n",
       "\t<tr><td>ENSG00000000005</td><td>TNMD           </td><td>   1           </td><td>   0           </td><td>   0           </td><td>   0           </td><td>   1           </td><td>   0           </td><td>   0           </td><td>   0           </td><td>⋯              </td><td>   0           </td><td>   1           </td><td>   0           </td><td>   0           </td><td>   0           </td><td>   0           </td><td>   0           </td><td>   0           </td><td>   0           </td><td>    0          </td></tr>\n",
       "\t<tr><td>ENSG00000000419</td><td>DPM1           </td><td>3949           </td><td>4134           </td><td>4795           </td><td>8278           </td><td>2262           </td><td>2587           </td><td>3607           </td><td>2450           </td><td>⋯              </td><td>2694           </td><td>1247           </td><td>3263           </td><td>3044           </td><td>3108           </td><td>4538           </td><td>7336           </td><td>4430           </td><td>9279           </td><td>13828          </td></tr>\n",
       "\t<tr><td>ENSG00000000457</td><td>SCYL3          </td><td>1597           </td><td>1513           </td><td>2412           </td><td>1988           </td><td>1530           </td><td> 926           </td><td>1415           </td><td> 573           </td><td>⋯              </td><td> 665           </td><td> 994           </td><td> 497           </td><td>1611           </td><td>1603           </td><td>1375           </td><td>1426           </td><td> 893           </td><td>1540           </td><td> 1660          </td></tr>\n",
       "\t<tr><td>ENSG00000000460</td><td>C1orf112       </td><td>3072           </td><td>1488           </td><td>2193           </td><td>4091           </td><td>3208           </td><td>1170           </td><td>3614           </td><td>1618           </td><td>⋯              </td><td>1472           </td><td>1517           </td><td>1346           </td><td>2068           </td><td>3128           </td><td>1850           </td><td>2522           </td><td>2320           </td><td> 793           </td><td>  689          </td></tr>\n",
       "\t<tr><td>ENSG00000000938</td><td>FGR            </td><td>   0           </td><td>  22           </td><td> 701           </td><td>   5           </td><td>   2           </td><td>   4           </td><td>  89           </td><td>   4           </td><td>⋯              </td><td>   0           </td><td> 125           </td><td> 777           </td><td>  50           </td><td>1890           </td><td>2315           </td><td>1514           </td><td>   5           </td><td>3776           </td><td>  847          </td></tr>\n",
       "</tbody>\n",
       "</table>\n"
      ],
      "text/latex": [
       "\\begin{tabular}{r|llllllllllllllllllllllllllllllllllllllllllllllllllllllllllllllllllll}\n",
       " Sample & GENE\\_NAME & ALMC1\\_DJ\\_p27 & ALMC2\\_DJ\\_p11 & AMO1\\_DSMZ\\_p8 & ANBL6\\_DJ2\\_p13 & COLO677\\_DSMZ\\_p8 & Delta47\\_JCRB\\_p16 & DP6\\_DJ\\_p7 & EJM\\_DSMZ\\_p9 & ⋯ & RPMI8226\\_ATCC\\_p7 & SKMM1\\_p6 & SKMM2\\_DSMZ\\_p17 & U266\\_ATCC\\_p8 & UTMC2\\_p6 & VP6\\_DJ\\_p5 & XG1\\_p5 & XG2\\_p5 & XG6\\_p5 & XG7\\_p6\\\\\n",
       "\\hline\n",
       "\t ENSG00000000003 & TSPAN6          &    2            &    0            &  100            &    2            &    0            &    0            &    2            &   88            & ⋯               &    2            &    0            &    0            &    0            &    0            &    0            &    0            &    0            &    2            &   114          \\\\\n",
       "\t ENSG00000000005 & TNMD            &    1            &    0            &    0            &    0            &    1            &    0            &    0            &    0            & ⋯               &    0            &    1            &    0            &    0            &    0            &    0            &    0            &    0            &    0            &     0          \\\\\n",
       "\t ENSG00000000419 & DPM1            & 3949            & 4134            & 4795            & 8278            & 2262            & 2587            & 3607            & 2450            & ⋯               & 2694            & 1247            & 3263            & 3044            & 3108            & 4538            & 7336            & 4430            & 9279            & 13828          \\\\\n",
       "\t ENSG00000000457 & SCYL3           & 1597            & 1513            & 2412            & 1988            & 1530            &  926            & 1415            &  573            & ⋯               &  665            &  994            &  497            & 1611            & 1603            & 1375            & 1426            &  893            & 1540            &  1660          \\\\\n",
       "\t ENSG00000000460 & C1orf112        & 3072            & 1488            & 2193            & 4091            & 3208            & 1170            & 3614            & 1618            & ⋯               & 1472            & 1517            & 1346            & 2068            & 3128            & 1850            & 2522            & 2320            &  793            &   689          \\\\\n",
       "\t ENSG00000000938 & FGR             &    0            &   22            &  701            &    5            &    2            &    4            &   89            &    4            & ⋯               &    0            &  125            &  777            &   50            & 1890            & 2315            & 1514            &    5            & 3776            &   847          \\\\\n",
       "\\end{tabular}\n"
      ],
      "text/markdown": [
       "\n",
       "Sample | GENE_NAME | ALMC1_DJ_p27 | ALMC2_DJ_p11 | AMO1_DSMZ_p8 | ANBL6_DJ2_p13 | COLO677_DSMZ_p8 | Delta47_JCRB_p16 | DP6_DJ_p7 | EJM_DSMZ_p9 | ⋯ | RPMI8226_ATCC_p7 | SKMM1_p6 | SKMM2_DSMZ_p17 | U266_ATCC_p8 | UTMC2_p6 | VP6_DJ_p5 | XG1_p5 | XG2_p5 | XG6_p5 | XG7_p6 | \n",
       "|---|---|---|---|---|---|\n",
       "| ENSG00000000003 | TSPAN6          |    2            |    0            |  100            |    2            |    0            |    0            |    2            |   88            | ⋯               |    2            |    0            |    0            |    0            |    0            |    0            |    0            |    0            |    2            |   114           | \n",
       "| ENSG00000000005 | TNMD            |    1            |    0            |    0            |    0            |    1            |    0            |    0            |    0            | ⋯               |    0            |    1            |    0            |    0            |    0            |    0            |    0            |    0            |    0            |     0           | \n",
       "| ENSG00000000419 | DPM1            | 3949            | 4134            | 4795            | 8278            | 2262            | 2587            | 3607            | 2450            | ⋯               | 2694            | 1247            | 3263            | 3044            | 3108            | 4538            | 7336            | 4430            | 9279            | 13828           | \n",
       "| ENSG00000000457 | SCYL3           | 1597            | 1513            | 2412            | 1988            | 1530            |  926            | 1415            |  573            | ⋯               |  665            |  994            |  497            | 1611            | 1603            | 1375            | 1426            |  893            | 1540            |  1660           | \n",
       "| ENSG00000000460 | C1orf112        | 3072            | 1488            | 2193            | 4091            | 3208            | 1170            | 3614            | 1618            | ⋯               | 1472            | 1517            | 1346            | 2068            | 3128            | 1850            | 2522            | 2320            |  793            |   689           | \n",
       "| ENSG00000000938 | FGR             |    0            |   22            |  701            |    5            |    2            |    4            |   89            |    4            | ⋯               |    0            |  125            |  777            |   50            | 1890            | 2315            | 1514            |    5            | 3776            |   847           | \n",
       "\n",
       "\n"
      ],
      "text/plain": [
       "  Sample          GENE_NAME ALMC1_DJ_p27 ALMC2_DJ_p11 AMO1_DSMZ_p8\n",
       "1 ENSG00000000003 TSPAN6       2            0          100        \n",
       "2 ENSG00000000005 TNMD         1            0            0        \n",
       "3 ENSG00000000419 DPM1      3949         4134         4795        \n",
       "4 ENSG00000000457 SCYL3     1597         1513         2412        \n",
       "5 ENSG00000000460 C1orf112  3072         1488         2193        \n",
       "6 ENSG00000000938 FGR          0           22          701        \n",
       "  ANBL6_DJ2_p13 COLO677_DSMZ_p8 Delta47_JCRB_p16 DP6_DJ_p7 EJM_DSMZ_p9 ⋯\n",
       "1    2             0               0                2        88        ⋯\n",
       "2    0             1               0                0         0        ⋯\n",
       "3 8278          2262            2587             3607      2450        ⋯\n",
       "4 1988          1530             926             1415       573        ⋯\n",
       "5 4091          3208            1170             3614      1618        ⋯\n",
       "6    5             2               4               89         4        ⋯\n",
       "  RPMI8226_ATCC_p7 SKMM1_p6 SKMM2_DSMZ_p17 U266_ATCC_p8 UTMC2_p6 VP6_DJ_p5\n",
       "1    2                0        0              0            0        0     \n",
       "2    0                1        0              0            0        0     \n",
       "3 2694             1247     3263           3044         3108     4538     \n",
       "4  665              994      497           1611         1603     1375     \n",
       "5 1472             1517     1346           2068         3128     1850     \n",
       "6    0              125      777             50         1890     2315     \n",
       "  XG1_p5 XG2_p5 XG6_p5 XG7_p6\n",
       "1    0      0      2     114 \n",
       "2    0      0      0       0 \n",
       "3 7336   4430   9279   13828 \n",
       "4 1426    893   1540    1660 \n",
       "5 2522   2320    793     689 \n",
       "6 1514      5   3776     847 "
      ]
     },
     "metadata": {},
     "output_type": "display_data"
    },
    {
     "data": {
      "text/html": [
       "<table>\n",
       "<thead><tr><th scope=col>GENE_ID</th><th scope=col>MMRF_2801_1_BM</th><th scope=col>MMRF_2718_1_BM</th><th scope=col>MMRF_2815_1_BM</th><th scope=col>MMRF_1656_1_BM</th><th scope=col>MMRF_2461_1_BM</th><th scope=col>MMRF_2531_2_PB</th><th scope=col>MMRF_2057_1_BM</th><th scope=col>MMRF_1910_1_BM</th><th scope=col>MMRF_2089_2_BM</th><th scope=col>⋯</th><th scope=col>MMRF_2379_1_BM</th><th scope=col>MMRF_1474_1_BM</th><th scope=col>MMRF_1641_1_BM</th><th scope=col>MMRF_1978_2_BM</th><th scope=col>MMRF_2795_1_BM</th><th scope=col>MMRF_2316_1_BM</th><th scope=col>MMRF_2606_2_BM</th><th scope=col>MMRF_2440_1_BM</th><th scope=col>MMRF_2731_1_BM</th><th scope=col>MMRF_1355_1_BM</th></tr></thead>\n",
       "<tbody>\n",
       "\t<tr><td>ENSG00000000003</td><td>  17           </td><td> 999           </td><td>  85           </td><td>   9           </td><td> 801           </td><td>  20           </td><td>  12           </td><td>  16           </td><td>   4           </td><td>⋯              </td><td>   2           </td><td> 186           </td><td>102            </td><td> 347           </td><td> 128           </td><td>  17           </td><td>  11           </td><td>   3           </td><td>  18           </td><td>  6            </td></tr>\n",
       "\t<tr><td>ENSG00000000005</td><td>   1           </td><td>   0           </td><td>   0           </td><td>   2           </td><td>   3           </td><td>   0           </td><td>   0           </td><td>   0           </td><td>   0           </td><td>⋯              </td><td>   0           </td><td>   0           </td><td>  0            </td><td>   0           </td><td>   0           </td><td>   0           </td><td>   1           </td><td>   0           </td><td>   0           </td><td>  0            </td></tr>\n",
       "\t<tr><td>ENSG00000000419</td><td>1495           </td><td>3271           </td><td>2303           </td><td>1234           </td><td>1896           </td><td>4400           </td><td>2013           </td><td>1745           </td><td>1698           </td><td>⋯              </td><td>2459           </td><td>1269           </td><td>337            </td><td>3347           </td><td>1049           </td><td>2545           </td><td>1625           </td><td>1253           </td><td>1905           </td><td>683            </td></tr>\n",
       "\t<tr><td>ENSG00000000457</td><td> 231           </td><td> 809           </td><td> 203           </td><td>1208           </td><td> 425           </td><td>2793           </td><td> 710           </td><td> 922           </td><td> 853           </td><td>⋯              </td><td> 734           </td><td> 771           </td><td>327            </td><td> 392           </td><td>  90           </td><td> 406           </td><td> 857           </td><td> 548           </td><td> 808           </td><td>393            </td></tr>\n",
       "\t<tr><td>ENSG00000000460</td><td>  87           </td><td> 319           </td><td>  31           </td><td> 183           </td><td>  85           </td><td> 929           </td><td> 174           </td><td> 292           </td><td> 837           </td><td>⋯              </td><td> 267           </td><td> 104           </td><td>114            </td><td> 126           </td><td>  17           </td><td>  67           </td><td> 196           </td><td> 141           </td><td> 199           </td><td> 55            </td></tr>\n",
       "\t<tr><td>ENSG00000000938</td><td> 318           </td><td> 105           </td><td> 119           </td><td> 190           </td><td>2064           </td><td>2952           </td><td>  12           </td><td> 351           </td><td> 498           </td><td>⋯              </td><td>  46           </td><td>  14           </td><td>303            </td><td>2007           </td><td>  58           </td><td>  77           </td><td>1037           </td><td>  11           </td><td> 174           </td><td> 22            </td></tr>\n",
       "</tbody>\n",
       "</table>\n"
      ],
      "text/latex": [
       "\\begin{tabular}{r|lllllllllllllllllllllllllllllllllllllllllllllllllllllllllllllllllllllllllllllllllllllllllllllllllllllllllllllllllllllllllllllllllllllllllllllllllllllllllllllllllllllllllllllllllllllllllllllllllllllllllllllllllllllllllllllllllllllllllllllllllllllllllllllllllllllllllllllllllllllllllllllllllllllllllllllllllllllllllllllllllllllllllllllllllllllllllllllllllllllllllllllllllllllllllllllllllllllllllllllllllllllllllllllllllllllllllllllllllllllllllllllllllllllllllllllllllllllllllllllllllllllllllllllllllllllllllllllllllllllllllllllllllllllllllllllllllllllllllllllllllllllllllllllllllllllllllllllllllllllllllllllllllllllllllllllllllllllllllllllllllllllllllllllllllllllllllllllllllllllllllllllllllllllllllllllllllllllllllllllllllllllllllllllllllllllllllllllllllllllllllllllllllllllllllllllllllllllllllllllllllllllllllllllllllllllllllllllllllllllllllllllllllllllllllllllllllllllllllllllllllllllllllllll}\n",
       " GENE\\_ID & MMRF\\_2801\\_1\\_BM & MMRF\\_2718\\_1\\_BM & MMRF\\_2815\\_1\\_BM & MMRF\\_1656\\_1\\_BM & MMRF\\_2461\\_1\\_BM & MMRF\\_2531\\_2\\_PB & MMRF\\_2057\\_1\\_BM & MMRF\\_1910\\_1\\_BM & MMRF\\_2089\\_2\\_BM & ⋯ & MMRF\\_2379\\_1\\_BM & MMRF\\_1474\\_1\\_BM & MMRF\\_1641\\_1\\_BM & MMRF\\_1978\\_2\\_BM & MMRF\\_2795\\_1\\_BM & MMRF\\_2316\\_1\\_BM & MMRF\\_2606\\_2\\_BM & MMRF\\_2440\\_1\\_BM & MMRF\\_2731\\_1\\_BM & MMRF\\_1355\\_1\\_BM\\\\\n",
       "\\hline\n",
       "\t ENSG00000000003 &   17            &  999            &   85            &    9            &  801            &   20            &   12            &   16            &    4            & ⋯               &    2            &  186            & 102             &  347            &  128            &   17            &   11            &    3            &   18            &   6            \\\\\n",
       "\t ENSG00000000005 &    1            &    0            &    0            &    2            &    3            &    0            &    0            &    0            &    0            & ⋯               &    0            &    0            &   0             &    0            &    0            &    0            &    1            &    0            &    0            &   0            \\\\\n",
       "\t ENSG00000000419 & 1495            & 3271            & 2303            & 1234            & 1896            & 4400            & 2013            & 1745            & 1698            & ⋯               & 2459            & 1269            & 337             & 3347            & 1049            & 2545            & 1625            & 1253            & 1905            & 683            \\\\\n",
       "\t ENSG00000000457 &  231            &  809            &  203            & 1208            &  425            & 2793            &  710            &  922            &  853            & ⋯               &  734            &  771            & 327             &  392            &   90            &  406            &  857            &  548            &  808            & 393            \\\\\n",
       "\t ENSG00000000460 &   87            &  319            &   31            &  183            &   85            &  929            &  174            &  292            &  837            & ⋯               &  267            &  104            & 114             &  126            &   17            &   67            &  196            &  141            &  199            &  55            \\\\\n",
       "\t ENSG00000000938 &  318            &  105            &  119            &  190            & 2064            & 2952            &   12            &  351            &  498            & ⋯               &   46            &   14            & 303             & 2007            &   58            &   77            & 1037            &   11            &  174            &  22            \\\\\n",
       "\\end{tabular}\n"
      ],
      "text/markdown": [
       "\n",
       "GENE_ID | MMRF_2801_1_BM | MMRF_2718_1_BM | MMRF_2815_1_BM | MMRF_1656_1_BM | MMRF_2461_1_BM | MMRF_2531_2_PB | MMRF_2057_1_BM | MMRF_1910_1_BM | MMRF_2089_2_BM | ⋯ | MMRF_2379_1_BM | MMRF_1474_1_BM | MMRF_1641_1_BM | MMRF_1978_2_BM | MMRF_2795_1_BM | MMRF_2316_1_BM | MMRF_2606_2_BM | MMRF_2440_1_BM | MMRF_2731_1_BM | MMRF_1355_1_BM | \n",
       "|---|---|---|---|---|---|\n",
       "| ENSG00000000003 |   17            |  999            |   85            |    9            |  801            |   20            |   12            |   16            |    4            | ⋯               |    2            |  186            | 102             |  347            |  128            |   17            |   11            |    3            |   18            |   6             | \n",
       "| ENSG00000000005 |    1            |    0            |    0            |    2            |    3            |    0            |    0            |    0            |    0            | ⋯               |    0            |    0            |   0             |    0            |    0            |    0            |    1            |    0            |    0            |   0             | \n",
       "| ENSG00000000419 | 1495            | 3271            | 2303            | 1234            | 1896            | 4400            | 2013            | 1745            | 1698            | ⋯               | 2459            | 1269            | 337             | 3347            | 1049            | 2545            | 1625            | 1253            | 1905            | 683             | \n",
       "| ENSG00000000457 |  231            |  809            |  203            | 1208            |  425            | 2793            |  710            |  922            |  853            | ⋯               |  734            |  771            | 327             |  392            |   90            |  406            |  857            |  548            |  808            | 393             | \n",
       "| ENSG00000000460 |   87            |  319            |   31            |  183            |   85            |  929            |  174            |  292            |  837            | ⋯               |  267            |  104            | 114             |  126            |   17            |   67            |  196            |  141            |  199            |  55             | \n",
       "| ENSG00000000938 |  318            |  105            |  119            |  190            | 2064            | 2952            |   12            |  351            |  498            | ⋯               |   46            |   14            | 303             | 2007            |   58            |   77            | 1037            |   11            |  174            |  22             | \n",
       "\n",
       "\n"
      ],
      "text/plain": [
       "  GENE_ID         MMRF_2801_1_BM MMRF_2718_1_BM MMRF_2815_1_BM MMRF_1656_1_BM\n",
       "1 ENSG00000000003   17            999             85              9          \n",
       "2 ENSG00000000005    1              0              0              2          \n",
       "3 ENSG00000000419 1495           3271           2303           1234          \n",
       "4 ENSG00000000457  231            809            203           1208          \n",
       "5 ENSG00000000460   87            319             31            183          \n",
       "6 ENSG00000000938  318            105            119            190          \n",
       "  MMRF_2461_1_BM MMRF_2531_2_PB MMRF_2057_1_BM MMRF_1910_1_BM MMRF_2089_2_BM ⋯\n",
       "1  801             20             12             16              4           ⋯\n",
       "2    3              0              0              0              0           ⋯\n",
       "3 1896           4400           2013           1745           1698           ⋯\n",
       "4  425           2793            710            922            853           ⋯\n",
       "5   85            929            174            292            837           ⋯\n",
       "6 2064           2952             12            351            498           ⋯\n",
       "  MMRF_2379_1_BM MMRF_1474_1_BM MMRF_1641_1_BM MMRF_1978_2_BM MMRF_2795_1_BM\n",
       "1    2            186           102             347            128          \n",
       "2    0              0             0               0              0          \n",
       "3 2459           1269           337            3347           1049          \n",
       "4  734            771           327             392             90          \n",
       "5  267            104           114             126             17          \n",
       "6   46             14           303            2007             58          \n",
       "  MMRF_2316_1_BM MMRF_2606_2_BM MMRF_2440_1_BM MMRF_2731_1_BM MMRF_1355_1_BM\n",
       "1   17             11              3             18             6           \n",
       "2    0              1              0              0             0           \n",
       "3 2545           1625           1253           1905           683           \n",
       "4  406            857            548            808           393           \n",
       "5   67            196            141            199            55           \n",
       "6   77           1037             11            174            22           "
      ]
     },
     "metadata": {},
     "output_type": "display_data"
    },
    {
     "data": {
      "text/html": [
       "893"
      ],
      "text/latex": [
       "893"
      ],
      "text/markdown": [
       "893"
      ],
      "text/plain": [
       "[1] 893"
      ]
     },
     "metadata": {},
     "output_type": "display_data"
    }
   ],
   "source": [
    "setwd('~/Downloads/proj/')\n",
    "\n",
    "library(data.table)\n",
    "library(edgeR)\n",
    "library(EDASeq)\n",
    "library(RUVSeq)\n",
    "library(affycoretools)\n",
    "library(ggplot2)\n",
    "library(DESeq2)\n",
    "require(dplyr)\n",
    "require(stringr)\n",
    "\n",
    "#project directories, and libraries loaded\n",
    "\n",
    "MM_cell_line = data.frame(fread(\"HMCL66_HTSeq_GENE_Counts_v2.txt\"))\n",
    "MM_patients = data.frame(fread(\"MMRF_CoMMpass_IA13a_E74GTF_HtSeq_Gene_Counts.txt\"))\n",
    "\n",
    "#reading and creating data frames from gene count data\n",
    "\n",
    "head(MM_cell_line)\n",
    "head(MM_patients)\n",
    "length(MM_patients[2,])\n",
    "\n",
    "#checking output head"
   ]
  },
  {
   "cell_type": "code",
   "execution_count": 31,
   "metadata": {},
   "outputs": [
    {
     "data": {
      "text/html": [
       "<ol class=list-inline>\n",
       "\t<li>'ENSG00000000003'</li>\n",
       "\t<li>'ENSG00000000005'</li>\n",
       "\t<li>'ENSG00000000419'</li>\n",
       "\t<li>'ENSG00000000457'</li>\n",
       "\t<li>'ENSG00000000460'</li>\n",
       "\t<li>'ENSG00000000938'</li>\n",
       "</ol>\n"
      ],
      "text/latex": [
       "\\begin{enumerate*}\n",
       "\\item 'ENSG00000000003'\n",
       "\\item 'ENSG00000000005'\n",
       "\\item 'ENSG00000000419'\n",
       "\\item 'ENSG00000000457'\n",
       "\\item 'ENSG00000000460'\n",
       "\\item 'ENSG00000000938'\n",
       "\\end{enumerate*}\n"
      ],
      "text/markdown": [
       "1. 'ENSG00000000003'\n",
       "2. 'ENSG00000000005'\n",
       "3. 'ENSG00000000419'\n",
       "4. 'ENSG00000000457'\n",
       "5. 'ENSG00000000460'\n",
       "6. 'ENSG00000000938'\n",
       "\n",
       "\n"
      ],
      "text/plain": [
       "[1] \"ENSG00000000003\" \"ENSG00000000005\" \"ENSG00000000419\" \"ENSG00000000457\"\n",
       "[5] \"ENSG00000000460\" \"ENSG00000000938\""
      ]
     },
     "metadata": {},
     "output_type": "display_data"
    }
   ],
   "source": [
    "ensembl_intersect = intersect(MM_cell_line$Sample, MM_patients$GENE_ID)\n",
    "\n",
    "#finding genes in common and creating character vector of Ensembl Gene IDs\n",
    "\n",
    "head(ensembl_intersect)\n",
    "\n",
    "#checking output head"
   ]
  },
  {
   "cell_type": "code",
   "execution_count": 32,
   "metadata": {},
   "outputs": [
    {
     "data": {
      "text/html": [
       "<table>\n",
       "<thead><tr><th></th><th scope=col>Sample</th><th scope=col>GENE_NAME</th><th scope=col>ALMC1_DJ_p27</th><th scope=col>ALMC2_DJ_p11</th><th scope=col>AMO1_DSMZ_p8</th><th scope=col>ANBL6_DJ2_p13</th><th scope=col>COLO677_DSMZ_p8</th><th scope=col>Delta47_JCRB_p16</th><th scope=col>DP6_DJ_p7</th><th scope=col>EJM_DSMZ_p9</th><th scope=col>⋯</th><th scope=col>RPMI8226_ATCC_p7</th><th scope=col>SKMM1_p6</th><th scope=col>SKMM2_DSMZ_p17</th><th scope=col>U266_ATCC_p8</th><th scope=col>UTMC2_p6</th><th scope=col>VP6_DJ_p5</th><th scope=col>XG1_p5</th><th scope=col>XG2_p5</th><th scope=col>XG6_p5</th><th scope=col>XG7_p6</th></tr></thead>\n",
       "<tbody>\n",
       "\t<tr><th scope=row>ENSG00000000003</th><td>ENSG00000000003</td><td>TSPAN6         </td><td>   2           </td><td>   0           </td><td> 100           </td><td>   2           </td><td>   0           </td><td>   0           </td><td>   2           </td><td>  88           </td><td>⋯              </td><td>   2           </td><td>   0           </td><td>   0           </td><td>   0           </td><td>   0           </td><td>   0           </td><td>   0           </td><td>   0           </td><td>   2           </td><td>  114          </td></tr>\n",
       "\t<tr><th scope=row>ENSG00000000005</th><td>ENSG00000000005</td><td>TNMD           </td><td>   1           </td><td>   0           </td><td>   0           </td><td>   0           </td><td>   1           </td><td>   0           </td><td>   0           </td><td>   0           </td><td>⋯              </td><td>   0           </td><td>   1           </td><td>   0           </td><td>   0           </td><td>   0           </td><td>   0           </td><td>   0           </td><td>   0           </td><td>   0           </td><td>    0          </td></tr>\n",
       "\t<tr><th scope=row>ENSG00000000419</th><td>ENSG00000000419</td><td>DPM1           </td><td>3949           </td><td>4134           </td><td>4795           </td><td>8278           </td><td>2262           </td><td>2587           </td><td>3607           </td><td>2450           </td><td>⋯              </td><td>2694           </td><td>1247           </td><td>3263           </td><td>3044           </td><td>3108           </td><td>4538           </td><td>7336           </td><td>4430           </td><td>9279           </td><td>13828          </td></tr>\n",
       "\t<tr><th scope=row>ENSG00000000457</th><td>ENSG00000000457</td><td>SCYL3          </td><td>1597           </td><td>1513           </td><td>2412           </td><td>1988           </td><td>1530           </td><td> 926           </td><td>1415           </td><td> 573           </td><td>⋯              </td><td> 665           </td><td> 994           </td><td> 497           </td><td>1611           </td><td>1603           </td><td>1375           </td><td>1426           </td><td> 893           </td><td>1540           </td><td> 1660          </td></tr>\n",
       "\t<tr><th scope=row>ENSG00000000460</th><td>ENSG00000000460</td><td>C1orf112       </td><td>3072           </td><td>1488           </td><td>2193           </td><td>4091           </td><td>3208           </td><td>1170           </td><td>3614           </td><td>1618           </td><td>⋯              </td><td>1472           </td><td>1517           </td><td>1346           </td><td>2068           </td><td>3128           </td><td>1850           </td><td>2522           </td><td>2320           </td><td> 793           </td><td>  689          </td></tr>\n",
       "\t<tr><th scope=row>ENSG00000000938</th><td>ENSG00000000938</td><td>FGR            </td><td>   0           </td><td>  22           </td><td> 701           </td><td>   5           </td><td>   2           </td><td>   4           </td><td>  89           </td><td>   4           </td><td>⋯              </td><td>   0           </td><td> 125           </td><td> 777           </td><td>  50           </td><td>1890           </td><td>2315           </td><td>1514           </td><td>   5           </td><td>3776           </td><td>  847          </td></tr>\n",
       "</tbody>\n",
       "</table>\n"
      ],
      "text/latex": [
       "\\begin{tabular}{r|llllllllllllllllllllllllllllllllllllllllllllllllllllllllllllllllllll}\n",
       "  & Sample & GENE\\_NAME & ALMC1\\_DJ\\_p27 & ALMC2\\_DJ\\_p11 & AMO1\\_DSMZ\\_p8 & ANBL6\\_DJ2\\_p13 & COLO677\\_DSMZ\\_p8 & Delta47\\_JCRB\\_p16 & DP6\\_DJ\\_p7 & EJM\\_DSMZ\\_p9 & ⋯ & RPMI8226\\_ATCC\\_p7 & SKMM1\\_p6 & SKMM2\\_DSMZ\\_p17 & U266\\_ATCC\\_p8 & UTMC2\\_p6 & VP6\\_DJ\\_p5 & XG1\\_p5 & XG2\\_p5 & XG6\\_p5 & XG7\\_p6\\\\\n",
       "\\hline\n",
       "\tENSG00000000003 & ENSG00000000003 & TSPAN6          &    2            &    0            &  100            &    2            &    0            &    0            &    2            &   88            & ⋯               &    2            &    0            &    0            &    0            &    0            &    0            &    0            &    0            &    2            &   114          \\\\\n",
       "\tENSG00000000005 & ENSG00000000005 & TNMD            &    1            &    0            &    0            &    0            &    1            &    0            &    0            &    0            & ⋯               &    0            &    1            &    0            &    0            &    0            &    0            &    0            &    0            &    0            &     0          \\\\\n",
       "\tENSG00000000419 & ENSG00000000419 & DPM1            & 3949            & 4134            & 4795            & 8278            & 2262            & 2587            & 3607            & 2450            & ⋯               & 2694            & 1247            & 3263            & 3044            & 3108            & 4538            & 7336            & 4430            & 9279            & 13828          \\\\\n",
       "\tENSG00000000457 & ENSG00000000457 & SCYL3           & 1597            & 1513            & 2412            & 1988            & 1530            &  926            & 1415            &  573            & ⋯               &  665            &  994            &  497            & 1611            & 1603            & 1375            & 1426            &  893            & 1540            &  1660          \\\\\n",
       "\tENSG00000000460 & ENSG00000000460 & C1orf112        & 3072            & 1488            & 2193            & 4091            & 3208            & 1170            & 3614            & 1618            & ⋯               & 1472            & 1517            & 1346            & 2068            & 3128            & 1850            & 2522            & 2320            &  793            &   689          \\\\\n",
       "\tENSG00000000938 & ENSG00000000938 & FGR             &    0            &   22            &  701            &    5            &    2            &    4            &   89            &    4            & ⋯               &    0            &  125            &  777            &   50            & 1890            & 2315            & 1514            &    5            & 3776            &   847          \\\\\n",
       "\\end{tabular}\n"
      ],
      "text/markdown": [
       "\n",
       "| <!--/--> | Sample | GENE_NAME | ALMC1_DJ_p27 | ALMC2_DJ_p11 | AMO1_DSMZ_p8 | ANBL6_DJ2_p13 | COLO677_DSMZ_p8 | Delta47_JCRB_p16 | DP6_DJ_p7 | EJM_DSMZ_p9 | ⋯ | RPMI8226_ATCC_p7 | SKMM1_p6 | SKMM2_DSMZ_p17 | U266_ATCC_p8 | UTMC2_p6 | VP6_DJ_p5 | XG1_p5 | XG2_p5 | XG6_p5 | XG7_p6 | \n",
       "|---|---|---|---|---|---|\n",
       "| ENSG00000000003 | ENSG00000000003 | TSPAN6          |    2            |    0            |  100            |    2            |    0            |    0            |    2            |   88            | ⋯               |    2            |    0            |    0            |    0            |    0            |    0            |    0            |    0            |    2            |   114           | \n",
       "| ENSG00000000005 | ENSG00000000005 | TNMD            |    1            |    0            |    0            |    0            |    1            |    0            |    0            |    0            | ⋯               |    0            |    1            |    0            |    0            |    0            |    0            |    0            |    0            |    0            |     0           | \n",
       "| ENSG00000000419 | ENSG00000000419 | DPM1            | 3949            | 4134            | 4795            | 8278            | 2262            | 2587            | 3607            | 2450            | ⋯               | 2694            | 1247            | 3263            | 3044            | 3108            | 4538            | 7336            | 4430            | 9279            | 13828           | \n",
       "| ENSG00000000457 | ENSG00000000457 | SCYL3           | 1597            | 1513            | 2412            | 1988            | 1530            |  926            | 1415            |  573            | ⋯               |  665            |  994            |  497            | 1611            | 1603            | 1375            | 1426            |  893            | 1540            |  1660           | \n",
       "| ENSG00000000460 | ENSG00000000460 | C1orf112        | 3072            | 1488            | 2193            | 4091            | 3208            | 1170            | 3614            | 1618            | ⋯               | 1472            | 1517            | 1346            | 2068            | 3128            | 1850            | 2522            | 2320            |  793            |   689           | \n",
       "| ENSG00000000938 | ENSG00000000938 | FGR             |    0            |   22            |  701            |    5            |    2            |    4            |   89            |    4            | ⋯               |    0            |  125            |  777            |   50            | 1890            | 2315            | 1514            |    5            | 3776            |   847           | \n",
       "\n",
       "\n"
      ],
      "text/plain": [
       "                Sample          GENE_NAME ALMC1_DJ_p27 ALMC2_DJ_p11\n",
       "ENSG00000000003 ENSG00000000003 TSPAN6       2            0        \n",
       "ENSG00000000005 ENSG00000000005 TNMD         1            0        \n",
       "ENSG00000000419 ENSG00000000419 DPM1      3949         4134        \n",
       "ENSG00000000457 ENSG00000000457 SCYL3     1597         1513        \n",
       "ENSG00000000460 ENSG00000000460 C1orf112  3072         1488        \n",
       "ENSG00000000938 ENSG00000000938 FGR          0           22        \n",
       "                AMO1_DSMZ_p8 ANBL6_DJ2_p13 COLO677_DSMZ_p8 Delta47_JCRB_p16\n",
       "ENSG00000000003  100            2             0               0            \n",
       "ENSG00000000005    0            0             1               0            \n",
       "ENSG00000000419 4795         8278          2262            2587            \n",
       "ENSG00000000457 2412         1988          1530             926            \n",
       "ENSG00000000460 2193         4091          3208            1170            \n",
       "ENSG00000000938  701            5             2               4            \n",
       "                DP6_DJ_p7 EJM_DSMZ_p9 ⋯ RPMI8226_ATCC_p7 SKMM1_p6\n",
       "ENSG00000000003    2        88        ⋯    2                0    \n",
       "ENSG00000000005    0         0        ⋯    0                1    \n",
       "ENSG00000000419 3607      2450        ⋯ 2694             1247    \n",
       "ENSG00000000457 1415       573        ⋯  665              994    \n",
       "ENSG00000000460 3614      1618        ⋯ 1472             1517    \n",
       "ENSG00000000938   89         4        ⋯    0              125    \n",
       "                SKMM2_DSMZ_p17 U266_ATCC_p8 UTMC2_p6 VP6_DJ_p5 XG1_p5 XG2_p5\n",
       "ENSG00000000003    0              0            0        0         0      0  \n",
       "ENSG00000000005    0              0            0        0         0      0  \n",
       "ENSG00000000419 3263           3044         3108     4538      7336   4430  \n",
       "ENSG00000000457  497           1611         1603     1375      1426    893  \n",
       "ENSG00000000460 1346           2068         3128     1850      2522   2320  \n",
       "ENSG00000000938  777             50         1890     2315      1514      5  \n",
       "                XG6_p5 XG7_p6\n",
       "ENSG00000000003    2     114 \n",
       "ENSG00000000005    0       0 \n",
       "ENSG00000000419 9279   13828 \n",
       "ENSG00000000457 1540    1660 \n",
       "ENSG00000000460  793     689 \n",
       "ENSG00000000938 3776     847 "
      ]
     },
     "metadata": {},
     "output_type": "display_data"
    },
    {
     "data": {
      "text/html": [
       "<table>\n",
       "<thead><tr><th></th><th scope=col>GENE_ID</th><th scope=col>MMRF_2801_1_BM</th><th scope=col>MMRF_2718_1_BM</th><th scope=col>MMRF_2815_1_BM</th><th scope=col>MMRF_1656_1_BM</th><th scope=col>MMRF_2461_1_BM</th><th scope=col>MMRF_2531_2_PB</th><th scope=col>MMRF_2057_1_BM</th><th scope=col>MMRF_1910_1_BM</th><th scope=col>MMRF_2089_2_BM</th><th scope=col>⋯</th><th scope=col>MMRF_2379_1_BM</th><th scope=col>MMRF_1474_1_BM</th><th scope=col>MMRF_1641_1_BM</th><th scope=col>MMRF_1978_2_BM</th><th scope=col>MMRF_2795_1_BM</th><th scope=col>MMRF_2316_1_BM</th><th scope=col>MMRF_2606_2_BM</th><th scope=col>MMRF_2440_1_BM</th><th scope=col>MMRF_2731_1_BM</th><th scope=col>MMRF_1355_1_BM</th></tr></thead>\n",
       "<tbody>\n",
       "\t<tr><th scope=row>ENSG00000000003</th><td>ENSG00000000003</td><td>  17           </td><td> 999           </td><td>  85           </td><td>   9           </td><td> 801           </td><td>  20           </td><td>  12           </td><td>  16           </td><td>   4           </td><td>⋯              </td><td>   2           </td><td> 186           </td><td>102            </td><td> 347           </td><td> 128           </td><td>  17           </td><td>  11           </td><td>   3           </td><td>  18           </td><td>  6            </td></tr>\n",
       "\t<tr><th scope=row>ENSG00000000005</th><td>ENSG00000000005</td><td>   1           </td><td>   0           </td><td>   0           </td><td>   2           </td><td>   3           </td><td>   0           </td><td>   0           </td><td>   0           </td><td>   0           </td><td>⋯              </td><td>   0           </td><td>   0           </td><td>  0            </td><td>   0           </td><td>   0           </td><td>   0           </td><td>   1           </td><td>   0           </td><td>   0           </td><td>  0            </td></tr>\n",
       "\t<tr><th scope=row>ENSG00000000419</th><td>ENSG00000000419</td><td>1495           </td><td>3271           </td><td>2303           </td><td>1234           </td><td>1896           </td><td>4400           </td><td>2013           </td><td>1745           </td><td>1698           </td><td>⋯              </td><td>2459           </td><td>1269           </td><td>337            </td><td>3347           </td><td>1049           </td><td>2545           </td><td>1625           </td><td>1253           </td><td>1905           </td><td>683            </td></tr>\n",
       "\t<tr><th scope=row>ENSG00000000457</th><td>ENSG00000000457</td><td> 231           </td><td> 809           </td><td> 203           </td><td>1208           </td><td> 425           </td><td>2793           </td><td> 710           </td><td> 922           </td><td> 853           </td><td>⋯              </td><td> 734           </td><td> 771           </td><td>327            </td><td> 392           </td><td>  90           </td><td> 406           </td><td> 857           </td><td> 548           </td><td> 808           </td><td>393            </td></tr>\n",
       "\t<tr><th scope=row>ENSG00000000460</th><td>ENSG00000000460</td><td>  87           </td><td> 319           </td><td>  31           </td><td> 183           </td><td>  85           </td><td> 929           </td><td> 174           </td><td> 292           </td><td> 837           </td><td>⋯              </td><td> 267           </td><td> 104           </td><td>114            </td><td> 126           </td><td>  17           </td><td>  67           </td><td> 196           </td><td> 141           </td><td> 199           </td><td> 55            </td></tr>\n",
       "\t<tr><th scope=row>ENSG00000000938</th><td>ENSG00000000938</td><td> 318           </td><td> 105           </td><td> 119           </td><td> 190           </td><td>2064           </td><td>2952           </td><td>  12           </td><td> 351           </td><td> 498           </td><td>⋯              </td><td>  46           </td><td>  14           </td><td>303            </td><td>2007           </td><td>  58           </td><td>  77           </td><td>1037           </td><td>  11           </td><td> 174           </td><td> 22            </td></tr>\n",
       "</tbody>\n",
       "</table>\n"
      ],
      "text/latex": [
       "\\begin{tabular}{r|lllllllllllllllllllllllllllllllllllllllllllllllllllllllllllllllllllllllllllllllllllllllllllllllllllllllllllllllllllllllllllllllllllllllllllllllllllllllllllllllllllllllllllllllllllllllllllllllllllllllllllllllllllllllllllllllllllllllllllllllllllllllllllllllllllllllllllllllllllllllllllllllllllllllllllllllllllllllllllllllllllllllllllllllllllllllllllllllllllllllllllllllllllllllllllllllllllllllllllllllllllllllllllllllllllllllllllllllllllllllllllllllllllllllllllllllllllllllllllllllllllllllllllllllllllllllllllllllllllllllllllllllllllllllllllllllllllllllllllllllllllllllllllllllllllllllllllllllllllllllllllllllllllllllllllllllllllllllllllllllllllllllllllllllllllllllllllllllllllllllllllllllllllllllllllllllllllllllllllllllllllllllllllllllllllllllllllllllllllllllllllllllllllllllllllllllllllllllllllllllllllllllllllllllllllllllllllllllllllllllllllllllllllllllllllllllllllllllllllllllllllllllllllll}\n",
       "  & GENE\\_ID & MMRF\\_2801\\_1\\_BM & MMRF\\_2718\\_1\\_BM & MMRF\\_2815\\_1\\_BM & MMRF\\_1656\\_1\\_BM & MMRF\\_2461\\_1\\_BM & MMRF\\_2531\\_2\\_PB & MMRF\\_2057\\_1\\_BM & MMRF\\_1910\\_1\\_BM & MMRF\\_2089\\_2\\_BM & ⋯ & MMRF\\_2379\\_1\\_BM & MMRF\\_1474\\_1\\_BM & MMRF\\_1641\\_1\\_BM & MMRF\\_1978\\_2\\_BM & MMRF\\_2795\\_1\\_BM & MMRF\\_2316\\_1\\_BM & MMRF\\_2606\\_2\\_BM & MMRF\\_2440\\_1\\_BM & MMRF\\_2731\\_1\\_BM & MMRF\\_1355\\_1\\_BM\\\\\n",
       "\\hline\n",
       "\tENSG00000000003 & ENSG00000000003 &   17            &  999            &   85            &    9            &  801            &   20            &   12            &   16            &    4            & ⋯               &    2            &  186            & 102             &  347            &  128            &   17            &   11            &    3            &   18            &   6            \\\\\n",
       "\tENSG00000000005 & ENSG00000000005 &    1            &    0            &    0            &    2            &    3            &    0            &    0            &    0            &    0            & ⋯               &    0            &    0            &   0             &    0            &    0            &    0            &    1            &    0            &    0            &   0            \\\\\n",
       "\tENSG00000000419 & ENSG00000000419 & 1495            & 3271            & 2303            & 1234            & 1896            & 4400            & 2013            & 1745            & 1698            & ⋯               & 2459            & 1269            & 337             & 3347            & 1049            & 2545            & 1625            & 1253            & 1905            & 683            \\\\\n",
       "\tENSG00000000457 & ENSG00000000457 &  231            &  809            &  203            & 1208            &  425            & 2793            &  710            &  922            &  853            & ⋯               &  734            &  771            & 327             &  392            &   90            &  406            &  857            &  548            &  808            & 393            \\\\\n",
       "\tENSG00000000460 & ENSG00000000460 &   87            &  319            &   31            &  183            &   85            &  929            &  174            &  292            &  837            & ⋯               &  267            &  104            & 114             &  126            &   17            &   67            &  196            &  141            &  199            &  55            \\\\\n",
       "\tENSG00000000938 & ENSG00000000938 &  318            &  105            &  119            &  190            & 2064            & 2952            &   12            &  351            &  498            & ⋯               &   46            &   14            & 303             & 2007            &   58            &   77            & 1037            &   11            &  174            &  22            \\\\\n",
       "\\end{tabular}\n"
      ],
      "text/markdown": [
       "\n",
       "| <!--/--> | GENE_ID | MMRF_2801_1_BM | MMRF_2718_1_BM | MMRF_2815_1_BM | MMRF_1656_1_BM | MMRF_2461_1_BM | MMRF_2531_2_PB | MMRF_2057_1_BM | MMRF_1910_1_BM | MMRF_2089_2_BM | ⋯ | MMRF_2379_1_BM | MMRF_1474_1_BM | MMRF_1641_1_BM | MMRF_1978_2_BM | MMRF_2795_1_BM | MMRF_2316_1_BM | MMRF_2606_2_BM | MMRF_2440_1_BM | MMRF_2731_1_BM | MMRF_1355_1_BM | \n",
       "|---|---|---|---|---|---|\n",
       "| ENSG00000000003 | ENSG00000000003 |   17            |  999            |   85            |    9            |  801            |   20            |   12            |   16            |    4            | ⋯               |    2            |  186            | 102             |  347            |  128            |   17            |   11            |    3            |   18            |   6             | \n",
       "| ENSG00000000005 | ENSG00000000005 |    1            |    0            |    0            |    2            |    3            |    0            |    0            |    0            |    0            | ⋯               |    0            |    0            |   0             |    0            |    0            |    0            |    1            |    0            |    0            |   0             | \n",
       "| ENSG00000000419 | ENSG00000000419 | 1495            | 3271            | 2303            | 1234            | 1896            | 4400            | 2013            | 1745            | 1698            | ⋯               | 2459            | 1269            | 337             | 3347            | 1049            | 2545            | 1625            | 1253            | 1905            | 683             | \n",
       "| ENSG00000000457 | ENSG00000000457 |  231            |  809            |  203            | 1208            |  425            | 2793            |  710            |  922            |  853            | ⋯               |  734            |  771            | 327             |  392            |   90            |  406            |  857            |  548            |  808            | 393             | \n",
       "| ENSG00000000460 | ENSG00000000460 |   87            |  319            |   31            |  183            |   85            |  929            |  174            |  292            |  837            | ⋯               |  267            |  104            | 114             |  126            |   17            |   67            |  196            |  141            |  199            |  55             | \n",
       "| ENSG00000000938 | ENSG00000000938 |  318            |  105            |  119            |  190            | 2064            | 2952            |   12            |  351            |  498            | ⋯               |   46            |   14            | 303             | 2007            |   58            |   77            | 1037            |   11            |  174            |  22             | \n",
       "\n",
       "\n"
      ],
      "text/plain": [
       "                GENE_ID         MMRF_2801_1_BM MMRF_2718_1_BM MMRF_2815_1_BM\n",
       "ENSG00000000003 ENSG00000000003   17            999             85          \n",
       "ENSG00000000005 ENSG00000000005    1              0              0          \n",
       "ENSG00000000419 ENSG00000000419 1495           3271           2303          \n",
       "ENSG00000000457 ENSG00000000457  231            809            203          \n",
       "ENSG00000000460 ENSG00000000460   87            319             31          \n",
       "ENSG00000000938 ENSG00000000938  318            105            119          \n",
       "                MMRF_1656_1_BM MMRF_2461_1_BM MMRF_2531_2_PB MMRF_2057_1_BM\n",
       "ENSG00000000003    9            801             20             12          \n",
       "ENSG00000000005    2              3              0              0          \n",
       "ENSG00000000419 1234           1896           4400           2013          \n",
       "ENSG00000000457 1208            425           2793            710          \n",
       "ENSG00000000460  183             85            929            174          \n",
       "ENSG00000000938  190           2064           2952             12          \n",
       "                MMRF_1910_1_BM MMRF_2089_2_BM ⋯ MMRF_2379_1_BM MMRF_1474_1_BM\n",
       "ENSG00000000003   16              4           ⋯    2            186          \n",
       "ENSG00000000005    0              0           ⋯    0              0          \n",
       "ENSG00000000419 1745           1698           ⋯ 2459           1269          \n",
       "ENSG00000000457  922            853           ⋯  734            771          \n",
       "ENSG00000000460  292            837           ⋯  267            104          \n",
       "ENSG00000000938  351            498           ⋯   46             14          \n",
       "                MMRF_1641_1_BM MMRF_1978_2_BM MMRF_2795_1_BM MMRF_2316_1_BM\n",
       "ENSG00000000003 102             347            128             17          \n",
       "ENSG00000000005   0               0              0              0          \n",
       "ENSG00000000419 337            3347           1049           2545          \n",
       "ENSG00000000457 327             392             90            406          \n",
       "ENSG00000000460 114             126             17             67          \n",
       "ENSG00000000938 303            2007             58             77          \n",
       "                MMRF_2606_2_BM MMRF_2440_1_BM MMRF_2731_1_BM MMRF_1355_1_BM\n",
       "ENSG00000000003   11              3             18             6           \n",
       "ENSG00000000005    1              0              0             0           \n",
       "ENSG00000000419 1625           1253           1905           683           \n",
       "ENSG00000000457  857            548            808           393           \n",
       "ENSG00000000460  196            141            199            55           \n",
       "ENSG00000000938 1037             11            174            22           "
      ]
     },
     "metadata": {},
     "output_type": "display_data"
    }
   ],
   "source": [
    "rownames(MM_cell_line) = MM_cell_line$Sample\n",
    "rownames(MM_patients) = MM_patients$GENE_ID\n",
    "\n",
    "#assigning rownames as ensembl gene IDs so as to be able to parse by ensembl Gene IDs\n",
    "\n",
    "head(MM_cell_line)\n",
    "head(MM_patients)\n",
    "\n",
    "#checking output head"
   ]
  },
  {
   "cell_type": "code",
   "execution_count": 33,
   "metadata": {},
   "outputs": [
    {
     "data": {
      "text/html": [
       "<table>\n",
       "<thead><tr><th></th><th scope=col>GENE_NAME</th><th scope=col>ALMC1_DJ_p27</th><th scope=col>ALMC2_DJ_p11</th><th scope=col>AMO1_DSMZ_p8</th><th scope=col>ANBL6_DJ2_p13</th><th scope=col>COLO677_DSMZ_p8</th><th scope=col>Delta47_JCRB_p16</th><th scope=col>DP6_DJ_p7</th><th scope=col>EJM_DSMZ_p9</th><th scope=col>FLAM76_JCRB_p10</th><th scope=col>⋯</th><th scope=col>RPMI8226_ATCC_p7</th><th scope=col>SKMM1_p6</th><th scope=col>SKMM2_DSMZ_p17</th><th scope=col>U266_ATCC_p8</th><th scope=col>UTMC2_p6</th><th scope=col>VP6_DJ_p5</th><th scope=col>XG1_p5</th><th scope=col>XG2_p5</th><th scope=col>XG6_p5</th><th scope=col>XG7_p6</th></tr></thead>\n",
       "<tbody>\n",
       "\t<tr><th scope=row>ENSG00000000003</th><td>TSPAN6  </td><td>   2    </td><td>   0    </td><td> 100    </td><td>   2    </td><td>   0    </td><td>   0    </td><td>   2    </td><td>  88    </td><td>   4    </td><td>⋯       </td><td>   2    </td><td>   0    </td><td>   0    </td><td>   0    </td><td>   0    </td><td>   0    </td><td>   0    </td><td>   0    </td><td>   2    </td><td>  114   </td></tr>\n",
       "\t<tr><th scope=row>ENSG00000000005</th><td>TNMD    </td><td>   1    </td><td>   0    </td><td>   0    </td><td>   0    </td><td>   1    </td><td>   0    </td><td>   0    </td><td>   0    </td><td>   0    </td><td>⋯       </td><td>   0    </td><td>   1    </td><td>   0    </td><td>   0    </td><td>   0    </td><td>   0    </td><td>   0    </td><td>   0    </td><td>   0    </td><td>    0   </td></tr>\n",
       "\t<tr><th scope=row>ENSG00000000419</th><td>DPM1    </td><td>3949    </td><td>4134    </td><td>4795    </td><td>8278    </td><td>2262    </td><td>2587    </td><td>3607    </td><td>2450    </td><td>1388    </td><td>⋯       </td><td>2694    </td><td>1247    </td><td>3263    </td><td>3044    </td><td>3108    </td><td>4538    </td><td>7336    </td><td>4430    </td><td>9279    </td><td>13828   </td></tr>\n",
       "\t<tr><th scope=row>ENSG00000000457</th><td>SCYL3   </td><td>1597    </td><td>1513    </td><td>2412    </td><td>1988    </td><td>1530    </td><td> 926    </td><td>1415    </td><td> 573    </td><td>1013    </td><td>⋯       </td><td> 665    </td><td> 994    </td><td> 497    </td><td>1611    </td><td>1603    </td><td>1375    </td><td>1426    </td><td> 893    </td><td>1540    </td><td> 1660   </td></tr>\n",
       "\t<tr><th scope=row>ENSG00000000460</th><td>C1orf112</td><td>3072    </td><td>1488    </td><td>2193    </td><td>4091    </td><td>3208    </td><td>1170    </td><td>3614    </td><td>1618    </td><td>1507    </td><td>⋯       </td><td>1472    </td><td>1517    </td><td>1346    </td><td>2068    </td><td>3128    </td><td>1850    </td><td>2522    </td><td>2320    </td><td> 793    </td><td>  689   </td></tr>\n",
       "\t<tr><th scope=row>ENSG00000000938</th><td>FGR     </td><td>   0    </td><td>  22    </td><td> 701    </td><td>   5    </td><td>   2    </td><td>   4    </td><td>  89    </td><td>   4    </td><td>   2    </td><td>⋯       </td><td>   0    </td><td> 125    </td><td> 777    </td><td>  50    </td><td>1890    </td><td>2315    </td><td>1514    </td><td>   5    </td><td>3776    </td><td>  847   </td></tr>\n",
       "</tbody>\n",
       "</table>\n"
      ],
      "text/latex": [
       "\\begin{tabular}{r|lllllllllllllllllllllllllllllllllllllllllllllllllllllllllllllllllll}\n",
       "  & GENE\\_NAME & ALMC1\\_DJ\\_p27 & ALMC2\\_DJ\\_p11 & AMO1\\_DSMZ\\_p8 & ANBL6\\_DJ2\\_p13 & COLO677\\_DSMZ\\_p8 & Delta47\\_JCRB\\_p16 & DP6\\_DJ\\_p7 & EJM\\_DSMZ\\_p9 & FLAM76\\_JCRB\\_p10 & ⋯ & RPMI8226\\_ATCC\\_p7 & SKMM1\\_p6 & SKMM2\\_DSMZ\\_p17 & U266\\_ATCC\\_p8 & UTMC2\\_p6 & VP6\\_DJ\\_p5 & XG1\\_p5 & XG2\\_p5 & XG6\\_p5 & XG7\\_p6\\\\\n",
       "\\hline\n",
       "\tENSG00000000003 & TSPAN6   &    2     &    0     &  100     &    2     &    0     &    0     &    2     &   88     &    4     & ⋯        &    2     &    0     &    0     &    0     &    0     &    0     &    0     &    0     &    2     &   114   \\\\\n",
       "\tENSG00000000005 & TNMD     &    1     &    0     &    0     &    0     &    1     &    0     &    0     &    0     &    0     & ⋯        &    0     &    1     &    0     &    0     &    0     &    0     &    0     &    0     &    0     &     0   \\\\\n",
       "\tENSG00000000419 & DPM1     & 3949     & 4134     & 4795     & 8278     & 2262     & 2587     & 3607     & 2450     & 1388     & ⋯        & 2694     & 1247     & 3263     & 3044     & 3108     & 4538     & 7336     & 4430     & 9279     & 13828   \\\\\n",
       "\tENSG00000000457 & SCYL3    & 1597     & 1513     & 2412     & 1988     & 1530     &  926     & 1415     &  573     & 1013     & ⋯        &  665     &  994     &  497     & 1611     & 1603     & 1375     & 1426     &  893     & 1540     &  1660   \\\\\n",
       "\tENSG00000000460 & C1orf112 & 3072     & 1488     & 2193     & 4091     & 3208     & 1170     & 3614     & 1618     & 1507     & ⋯        & 1472     & 1517     & 1346     & 2068     & 3128     & 1850     & 2522     & 2320     &  793     &   689   \\\\\n",
       "\tENSG00000000938 & FGR      &    0     &   22     &  701     &    5     &    2     &    4     &   89     &    4     &    2     & ⋯        &    0     &  125     &  777     &   50     & 1890     & 2315     & 1514     &    5     & 3776     &   847   \\\\\n",
       "\\end{tabular}\n"
      ],
      "text/markdown": [
       "\n",
       "| <!--/--> | GENE_NAME | ALMC1_DJ_p27 | ALMC2_DJ_p11 | AMO1_DSMZ_p8 | ANBL6_DJ2_p13 | COLO677_DSMZ_p8 | Delta47_JCRB_p16 | DP6_DJ_p7 | EJM_DSMZ_p9 | FLAM76_JCRB_p10 | ⋯ | RPMI8226_ATCC_p7 | SKMM1_p6 | SKMM2_DSMZ_p17 | U266_ATCC_p8 | UTMC2_p6 | VP6_DJ_p5 | XG1_p5 | XG2_p5 | XG6_p5 | XG7_p6 | \n",
       "|---|---|---|---|---|---|\n",
       "| ENSG00000000003 | TSPAN6   |    2     |    0     |  100     |    2     |    0     |    0     |    2     |   88     |    4     | ⋯        |    2     |    0     |    0     |    0     |    0     |    0     |    0     |    0     |    2     |   114    | \n",
       "| ENSG00000000005 | TNMD     |    1     |    0     |    0     |    0     |    1     |    0     |    0     |    0     |    0     | ⋯        |    0     |    1     |    0     |    0     |    0     |    0     |    0     |    0     |    0     |     0    | \n",
       "| ENSG00000000419 | DPM1     | 3949     | 4134     | 4795     | 8278     | 2262     | 2587     | 3607     | 2450     | 1388     | ⋯        | 2694     | 1247     | 3263     | 3044     | 3108     | 4538     | 7336     | 4430     | 9279     | 13828    | \n",
       "| ENSG00000000457 | SCYL3    | 1597     | 1513     | 2412     | 1988     | 1530     |  926     | 1415     |  573     | 1013     | ⋯        |  665     |  994     |  497     | 1611     | 1603     | 1375     | 1426     |  893     | 1540     |  1660    | \n",
       "| ENSG00000000460 | C1orf112 | 3072     | 1488     | 2193     | 4091     | 3208     | 1170     | 3614     | 1618     | 1507     | ⋯        | 1472     | 1517     | 1346     | 2068     | 3128     | 1850     | 2522     | 2320     |  793     |   689    | \n",
       "| ENSG00000000938 | FGR      |    0     |   22     |  701     |    5     |    2     |    4     |   89     |    4     |    2     | ⋯        |    0     |  125     |  777     |   50     | 1890     | 2315     | 1514     |    5     | 3776     |   847    | \n",
       "\n",
       "\n"
      ],
      "text/plain": [
       "                GENE_NAME ALMC1_DJ_p27 ALMC2_DJ_p11 AMO1_DSMZ_p8 ANBL6_DJ2_p13\n",
       "ENSG00000000003 TSPAN6       2            0          100            2         \n",
       "ENSG00000000005 TNMD         1            0            0            0         \n",
       "ENSG00000000419 DPM1      3949         4134         4795         8278         \n",
       "ENSG00000000457 SCYL3     1597         1513         2412         1988         \n",
       "ENSG00000000460 C1orf112  3072         1488         2193         4091         \n",
       "ENSG00000000938 FGR          0           22          701            5         \n",
       "                COLO677_DSMZ_p8 Delta47_JCRB_p16 DP6_DJ_p7 EJM_DSMZ_p9\n",
       "ENSG00000000003    0               0                2        88       \n",
       "ENSG00000000005    1               0                0         0       \n",
       "ENSG00000000419 2262            2587             3607      2450       \n",
       "ENSG00000000457 1530             926             1415       573       \n",
       "ENSG00000000460 3208            1170             3614      1618       \n",
       "ENSG00000000938    2               4               89         4       \n",
       "                FLAM76_JCRB_p10 ⋯ RPMI8226_ATCC_p7 SKMM1_p6 SKMM2_DSMZ_p17\n",
       "ENSG00000000003    4            ⋯    2                0        0          \n",
       "ENSG00000000005    0            ⋯    0                1        0          \n",
       "ENSG00000000419 1388            ⋯ 2694             1247     3263          \n",
       "ENSG00000000457 1013            ⋯  665              994      497          \n",
       "ENSG00000000460 1507            ⋯ 1472             1517     1346          \n",
       "ENSG00000000938    2            ⋯    0              125      777          \n",
       "                U266_ATCC_p8 UTMC2_p6 VP6_DJ_p5 XG1_p5 XG2_p5 XG6_p5 XG7_p6\n",
       "ENSG00000000003    0            0        0         0      0      2     114 \n",
       "ENSG00000000005    0            0        0         0      0      0       0 \n",
       "ENSG00000000419 3044         3108     4538      7336   4430   9279   13828 \n",
       "ENSG00000000457 1611         1603     1375      1426    893   1540    1660 \n",
       "ENSG00000000460 2068         3128     1850      2522   2320    793     689 \n",
       "ENSG00000000938   50         1890     2315      1514      5   3776     847 "
      ]
     },
     "metadata": {},
     "output_type": "display_data"
    },
    {
     "data": {
      "text/html": [
       "<table>\n",
       "<thead><tr><th></th><th scope=col>MMRF_2801_1_BM</th><th scope=col>MMRF_2718_1_BM</th><th scope=col>MMRF_2815_1_BM</th><th scope=col>MMRF_1656_1_BM</th><th scope=col>MMRF_2461_1_BM</th><th scope=col>MMRF_2057_1_BM</th><th scope=col>MMRF_1910_1_BM</th><th scope=col>MMRF_2341_1_BM</th><th scope=col>MMRF_2501_1_BM</th><th scope=col>MMRF_1383_1_BM</th><th scope=col>⋯</th><th scope=col>MMRF_1731_1_BM</th><th scope=col>MMRF_2799_1_BM</th><th scope=col>MMRF_2379_1_BM</th><th scope=col>MMRF_1474_1_BM</th><th scope=col>MMRF_1641_1_BM</th><th scope=col>MMRF_2795_1_BM</th><th scope=col>MMRF_2316_1_BM</th><th scope=col>MMRF_2440_1_BM</th><th scope=col>MMRF_2731_1_BM</th><th scope=col>MMRF_1355_1_BM</th></tr></thead>\n",
       "<tbody>\n",
       "\t<tr><th scope=row>ENSG00000000003</th><td>  17</td><td> 999</td><td>  85</td><td>   9</td><td> 801</td><td>  12</td><td>  16</td><td>  43</td><td> 594</td><td>693 </td><td>⋯   </td><td>   1</td><td>  49</td><td>   2</td><td> 186</td><td>102 </td><td> 128</td><td>  17</td><td>   3</td><td>  18</td><td>  6 </td></tr>\n",
       "\t<tr><th scope=row>ENSG00000000005</th><td>   1</td><td>   0</td><td>   0</td><td>   2</td><td>   3</td><td>   0</td><td>   0</td><td>   1</td><td>   0</td><td>  0 </td><td>⋯   </td><td>   0</td><td>   0</td><td>   0</td><td>   0</td><td>  0 </td><td>   0</td><td>   0</td><td>   0</td><td>   0</td><td>  0 </td></tr>\n",
       "\t<tr><th scope=row>ENSG00000000419</th><td>1495</td><td>3271</td><td>2303</td><td>1234</td><td>1896</td><td>2013</td><td>1745</td><td>2403</td><td>1847</td><td>973 </td><td>⋯   </td><td>1751</td><td>2537</td><td>2459</td><td>1269</td><td>337 </td><td>1049</td><td>2545</td><td>1253</td><td>1905</td><td>683 </td></tr>\n",
       "\t<tr><th scope=row>ENSG00000000457</th><td> 231</td><td> 809</td><td> 203</td><td>1208</td><td> 425</td><td> 710</td><td> 922</td><td>1203</td><td>1160</td><td>587 </td><td>⋯   </td><td> 493</td><td> 220</td><td> 734</td><td> 771</td><td>327 </td><td>  90</td><td> 406</td><td> 548</td><td> 808</td><td>393 </td></tr>\n",
       "\t<tr><th scope=row>ENSG00000000460</th><td>  87</td><td> 319</td><td>  31</td><td> 183</td><td>  85</td><td> 174</td><td> 292</td><td> 478</td><td> 218</td><td>107 </td><td>⋯   </td><td> 104</td><td>  50</td><td> 267</td><td> 104</td><td>114 </td><td>  17</td><td>  67</td><td> 141</td><td> 199</td><td> 55 </td></tr>\n",
       "\t<tr><th scope=row>ENSG00000000938</th><td> 318</td><td> 105</td><td> 119</td><td> 190</td><td>2064</td><td>  12</td><td> 351</td><td> 555</td><td>  37</td><td> 21 </td><td>⋯   </td><td>3064</td><td>  46</td><td>  46</td><td>  14</td><td>303 </td><td>  58</td><td>  77</td><td>  11</td><td> 174</td><td> 22 </td></tr>\n",
       "</tbody>\n",
       "</table>\n"
      ],
      "text/latex": [
       "\\begin{tabular}{r|lllllllllllllllllllllllllllllllllllllllllllllllllllllllllllllllllllllllllllllllllllllllllllllllllllllllllllllllllllllllllllllllllllllllllllllllllllllllllllllllllllllllllllllllllllllllllllllllllllllllllllllllllllllllllllllllllllllllllllllllllllllllllllllllllllllllllllllllllllllllllllllllllllllllllllllllllllllllllllllllllllllllllllllllllllllllllllllllllllllllllllllllllllllllllllllllllllllllllllllllllllllllllllllllllllllllllllllllllllllllllllllllllllllllllllllllllllllllllllllllllllllllllllllllllllllllllllllllllllllllllllllllllllllllllllllllllllllllllllllllllllllllllllllllllllllllllllllllllllllllllllllllllllllllllllllllllllllllllllllllllllllllllllllllllllllllllllllllllllllllllllllllllllllllllllllllllllllllllllllllllllllllllllllllllllllllllllllllllllllllllllllllllllllllllll}\n",
       "  & MMRF\\_2801\\_1\\_BM & MMRF\\_2718\\_1\\_BM & MMRF\\_2815\\_1\\_BM & MMRF\\_1656\\_1\\_BM & MMRF\\_2461\\_1\\_BM & MMRF\\_2057\\_1\\_BM & MMRF\\_1910\\_1\\_BM & MMRF\\_2341\\_1\\_BM & MMRF\\_2501\\_1\\_BM & MMRF\\_1383\\_1\\_BM & ⋯ & MMRF\\_1731\\_1\\_BM & MMRF\\_2799\\_1\\_BM & MMRF\\_2379\\_1\\_BM & MMRF\\_1474\\_1\\_BM & MMRF\\_1641\\_1\\_BM & MMRF\\_2795\\_1\\_BM & MMRF\\_2316\\_1\\_BM & MMRF\\_2440\\_1\\_BM & MMRF\\_2731\\_1\\_BM & MMRF\\_1355\\_1\\_BM\\\\\n",
       "\\hline\n",
       "\tENSG00000000003 &   17 &  999 &   85 &    9 &  801 &   12 &   16 &   43 &  594 & 693  & ⋯    &    1 &   49 &    2 &  186 & 102  &  128 &   17 &    3 &   18 &   6 \\\\\n",
       "\tENSG00000000005 &    1 &    0 &    0 &    2 &    3 &    0 &    0 &    1 &    0 &   0  & ⋯    &    0 &    0 &    0 &    0 &   0  &    0 &    0 &    0 &    0 &   0 \\\\\n",
       "\tENSG00000000419 & 1495 & 3271 & 2303 & 1234 & 1896 & 2013 & 1745 & 2403 & 1847 & 973  & ⋯    & 1751 & 2537 & 2459 & 1269 & 337  & 1049 & 2545 & 1253 & 1905 & 683 \\\\\n",
       "\tENSG00000000457 &  231 &  809 &  203 & 1208 &  425 &  710 &  922 & 1203 & 1160 & 587  & ⋯    &  493 &  220 &  734 &  771 & 327  &   90 &  406 &  548 &  808 & 393 \\\\\n",
       "\tENSG00000000460 &   87 &  319 &   31 &  183 &   85 &  174 &  292 &  478 &  218 & 107  & ⋯    &  104 &   50 &  267 &  104 & 114  &   17 &   67 &  141 &  199 &  55 \\\\\n",
       "\tENSG00000000938 &  318 &  105 &  119 &  190 & 2064 &   12 &  351 &  555 &   37 &  21  & ⋯    & 3064 &   46 &   46 &   14 & 303  &   58 &   77 &   11 &  174 &  22 \\\\\n",
       "\\end{tabular}\n"
      ],
      "text/markdown": [
       "\n",
       "| <!--/--> | MMRF_2801_1_BM | MMRF_2718_1_BM | MMRF_2815_1_BM | MMRF_1656_1_BM | MMRF_2461_1_BM | MMRF_2057_1_BM | MMRF_1910_1_BM | MMRF_2341_1_BM | MMRF_2501_1_BM | MMRF_1383_1_BM | ⋯ | MMRF_1731_1_BM | MMRF_2799_1_BM | MMRF_2379_1_BM | MMRF_1474_1_BM | MMRF_1641_1_BM | MMRF_2795_1_BM | MMRF_2316_1_BM | MMRF_2440_1_BM | MMRF_2731_1_BM | MMRF_1355_1_BM | \n",
       "|---|---|---|---|---|---|\n",
       "| ENSG00000000003 |   17 |  999 |   85 |    9 |  801 |   12 |   16 |   43 |  594 | 693  | ⋯    |    1 |   49 |    2 |  186 | 102  |  128 |   17 |    3 |   18 |   6  | \n",
       "| ENSG00000000005 |    1 |    0 |    0 |    2 |    3 |    0 |    0 |    1 |    0 |   0  | ⋯    |    0 |    0 |    0 |    0 |   0  |    0 |    0 |    0 |    0 |   0  | \n",
       "| ENSG00000000419 | 1495 | 3271 | 2303 | 1234 | 1896 | 2013 | 1745 | 2403 | 1847 | 973  | ⋯    | 1751 | 2537 | 2459 | 1269 | 337  | 1049 | 2545 | 1253 | 1905 | 683  | \n",
       "| ENSG00000000457 |  231 |  809 |  203 | 1208 |  425 |  710 |  922 | 1203 | 1160 | 587  | ⋯    |  493 |  220 |  734 |  771 | 327  |   90 |  406 |  548 |  808 | 393  | \n",
       "| ENSG00000000460 |   87 |  319 |   31 |  183 |   85 |  174 |  292 |  478 |  218 | 107  | ⋯    |  104 |   50 |  267 |  104 | 114  |   17 |   67 |  141 |  199 |  55  | \n",
       "| ENSG00000000938 |  318 |  105 |  119 |  190 | 2064 |   12 |  351 |  555 |   37 |  21  | ⋯    | 3064 |   46 |   46 |   14 | 303  |   58 |   77 |   11 |  174 |  22  | \n",
       "\n",
       "\n"
      ],
      "text/plain": [
       "                MMRF_2801_1_BM MMRF_2718_1_BM MMRF_2815_1_BM MMRF_1656_1_BM\n",
       "ENSG00000000003   17            999             85              9          \n",
       "ENSG00000000005    1              0              0              2          \n",
       "ENSG00000000419 1495           3271           2303           1234          \n",
       "ENSG00000000457  231            809            203           1208          \n",
       "ENSG00000000460   87            319             31            183          \n",
       "ENSG00000000938  318            105            119            190          \n",
       "                MMRF_2461_1_BM MMRF_2057_1_BM MMRF_1910_1_BM MMRF_2341_1_BM\n",
       "ENSG00000000003  801             12             16             43          \n",
       "ENSG00000000005    3              0              0              1          \n",
       "ENSG00000000419 1896           2013           1745           2403          \n",
       "ENSG00000000457  425            710            922           1203          \n",
       "ENSG00000000460   85            174            292            478          \n",
       "ENSG00000000938 2064             12            351            555          \n",
       "                MMRF_2501_1_BM MMRF_1383_1_BM ⋯ MMRF_1731_1_BM MMRF_2799_1_BM\n",
       "ENSG00000000003  594           693            ⋯    1             49          \n",
       "ENSG00000000005    0             0            ⋯    0              0          \n",
       "ENSG00000000419 1847           973            ⋯ 1751           2537          \n",
       "ENSG00000000457 1160           587            ⋯  493            220          \n",
       "ENSG00000000460  218           107            ⋯  104             50          \n",
       "ENSG00000000938   37            21            ⋯ 3064             46          \n",
       "                MMRF_2379_1_BM MMRF_1474_1_BM MMRF_1641_1_BM MMRF_2795_1_BM\n",
       "ENSG00000000003    2            186           102             128          \n",
       "ENSG00000000005    0              0             0               0          \n",
       "ENSG00000000419 2459           1269           337            1049          \n",
       "ENSG00000000457  734            771           327              90          \n",
       "ENSG00000000460  267            104           114              17          \n",
       "ENSG00000000938   46             14           303              58          \n",
       "                MMRF_2316_1_BM MMRF_2440_1_BM MMRF_2731_1_BM MMRF_1355_1_BM\n",
       "ENSG00000000003   17              3             18             6           \n",
       "ENSG00000000005    0              0              0             0           \n",
       "ENSG00000000419 2545           1253           1905           683           \n",
       "ENSG00000000457  406            548            808           393           \n",
       "ENSG00000000460   67            141            199            55           \n",
       "ENSG00000000938   77             11            174            22           "
      ]
     },
     "metadata": {},
     "output_type": "display_data"
    },
    {
     "data": {
      "text/html": [
       "<table>\n",
       "<thead><tr><th></th><th scope=col>GENE_NAME</th><th scope=col>ALMC1_DJ_p27</th><th scope=col>ALMC2_DJ_p11</th><th scope=col>AMO1_DSMZ_p8</th><th scope=col>ANBL6_DJ2_p13</th><th scope=col>COLO677_DSMZ_p8</th><th scope=col>Delta47_JCRB_p16</th><th scope=col>DP6_DJ_p7</th><th scope=col>EJM_DSMZ_p9</th><th scope=col>FLAM76_JCRB_p10</th><th scope=col>⋯</th><th scope=col>MMRF_2379_1_BM</th><th scope=col>MMRF_1474_1_BM</th><th scope=col>MMRF_1641_1_BM</th><th scope=col>MMRF_1978_2_BM</th><th scope=col>MMRF_2795_1_BM</th><th scope=col>MMRF_2316_1_BM</th><th scope=col>MMRF_2606_2_BM</th><th scope=col>MMRF_2440_1_BM</th><th scope=col>MMRF_2731_1_BM</th><th scope=col>MMRF_1355_1_BM</th></tr></thead>\n",
       "<tbody>\n",
       "\t<tr><th scope=row>ENSG00000000003</th><td>TSPAN6  </td><td>   2    </td><td>   0    </td><td> 100    </td><td>   2    </td><td>   0    </td><td>   0    </td><td>   2    </td><td>  88    </td><td>   4    </td><td>⋯       </td><td>   2    </td><td> 186    </td><td>102     </td><td> 347    </td><td> 128    </td><td>  17    </td><td>  11    </td><td>   3    </td><td>  18    </td><td>  6     </td></tr>\n",
       "\t<tr><th scope=row>ENSG00000000005</th><td>TNMD    </td><td>   1    </td><td>   0    </td><td>   0    </td><td>   0    </td><td>   1    </td><td>   0    </td><td>   0    </td><td>   0    </td><td>   0    </td><td>⋯       </td><td>   0    </td><td>   0    </td><td>  0     </td><td>   0    </td><td>   0    </td><td>   0    </td><td>   1    </td><td>   0    </td><td>   0    </td><td>  0     </td></tr>\n",
       "\t<tr><th scope=row>ENSG00000000419</th><td>DPM1    </td><td>3949    </td><td>4134    </td><td>4795    </td><td>8278    </td><td>2262    </td><td>2587    </td><td>3607    </td><td>2450    </td><td>1388    </td><td>⋯       </td><td>2459    </td><td>1269    </td><td>337     </td><td>3347    </td><td>1049    </td><td>2545    </td><td>1625    </td><td>1253    </td><td>1905    </td><td>683     </td></tr>\n",
       "\t<tr><th scope=row>ENSG00000000457</th><td>SCYL3   </td><td>1597    </td><td>1513    </td><td>2412    </td><td>1988    </td><td>1530    </td><td> 926    </td><td>1415    </td><td> 573    </td><td>1013    </td><td>⋯       </td><td> 734    </td><td> 771    </td><td>327     </td><td> 392    </td><td>  90    </td><td> 406    </td><td> 857    </td><td> 548    </td><td> 808    </td><td>393     </td></tr>\n",
       "\t<tr><th scope=row>ENSG00000000460</th><td>C1orf112</td><td>3072    </td><td>1488    </td><td>2193    </td><td>4091    </td><td>3208    </td><td>1170    </td><td>3614    </td><td>1618    </td><td>1507    </td><td>⋯       </td><td> 267    </td><td> 104    </td><td>114     </td><td> 126    </td><td>  17    </td><td>  67    </td><td> 196    </td><td> 141    </td><td> 199    </td><td> 55     </td></tr>\n",
       "\t<tr><th scope=row>ENSG00000000938</th><td>FGR     </td><td>   0    </td><td>  22    </td><td> 701    </td><td>   5    </td><td>   2    </td><td>   4    </td><td>  89    </td><td>   4    </td><td>   2    </td><td>⋯       </td><td>  46    </td><td>  14    </td><td>303     </td><td>2007    </td><td>  58    </td><td>  77    </td><td>1037    </td><td>  11    </td><td> 174    </td><td> 22     </td></tr>\n",
       "</tbody>\n",
       "</table>\n"
      ],
      "text/latex": [
       "\\begin{tabular}{r|lllllllllllllllllllllllllllllllllllllllllllllllllllllllllllllllllllllllllllllllllllllllllllllllllllllllllllllllllllllllllllllllllllllllllllllllllllllllllllllllllllllllllllllllllllllllllllllllllllllllllllllllllllllllllllllllllllllllllllllllllllllllllllllllllllllllllllllllllllllllllllllllllllllllllllllllllllllllllllllllllllllllllllllllllllllllllllllllllllllllllllllllllllllllllllllllllllllllllllllllllllllllllllllllllllllllllllllllllllllllllllllllllllllllllllllllllllllllllllllllllllllllllllllllllllllllllllllllllllllllllllllllllllllllllllllllllllllllllllllllllllllllllllllllllllllllllllllllllllllllllllllllllllllllllllllllllllllllllllllllllllllllllllllllllllllllllllllllllllllllllllllllllllllllllllllllllllllllllllllllllllllllllllllllllllllllllllllllllllllllllllllllllllllllllllllllllllllllllllllllllllllllllllllllllllllllllllllllllllllllllllllllllllllllllllllllllllllllllllllllllllllllllllllllllllllllllllllllllllllllllllllllllllllllllllllllllllllllllllllll}\n",
       "  & GENE\\_NAME & ALMC1\\_DJ\\_p27 & ALMC2\\_DJ\\_p11 & AMO1\\_DSMZ\\_p8 & ANBL6\\_DJ2\\_p13 & COLO677\\_DSMZ\\_p8 & Delta47\\_JCRB\\_p16 & DP6\\_DJ\\_p7 & EJM\\_DSMZ\\_p9 & FLAM76\\_JCRB\\_p10 & ⋯ & MMRF\\_2379\\_1\\_BM & MMRF\\_1474\\_1\\_BM & MMRF\\_1641\\_1\\_BM & MMRF\\_1978\\_2\\_BM & MMRF\\_2795\\_1\\_BM & MMRF\\_2316\\_1\\_BM & MMRF\\_2606\\_2\\_BM & MMRF\\_2440\\_1\\_BM & MMRF\\_2731\\_1\\_BM & MMRF\\_1355\\_1\\_BM\\\\\n",
       "\\hline\n",
       "\tENSG00000000003 & TSPAN6   &    2     &    0     &  100     &    2     &    0     &    0     &    2     &   88     &    4     & ⋯        &    2     &  186     & 102      &  347     &  128     &   17     &   11     &    3     &   18     &   6     \\\\\n",
       "\tENSG00000000005 & TNMD     &    1     &    0     &    0     &    0     &    1     &    0     &    0     &    0     &    0     & ⋯        &    0     &    0     &   0      &    0     &    0     &    0     &    1     &    0     &    0     &   0     \\\\\n",
       "\tENSG00000000419 & DPM1     & 3949     & 4134     & 4795     & 8278     & 2262     & 2587     & 3607     & 2450     & 1388     & ⋯        & 2459     & 1269     & 337      & 3347     & 1049     & 2545     & 1625     & 1253     & 1905     & 683     \\\\\n",
       "\tENSG00000000457 & SCYL3    & 1597     & 1513     & 2412     & 1988     & 1530     &  926     & 1415     &  573     & 1013     & ⋯        &  734     &  771     & 327      &  392     &   90     &  406     &  857     &  548     &  808     & 393     \\\\\n",
       "\tENSG00000000460 & C1orf112 & 3072     & 1488     & 2193     & 4091     & 3208     & 1170     & 3614     & 1618     & 1507     & ⋯        &  267     &  104     & 114      &  126     &   17     &   67     &  196     &  141     &  199     &  55     \\\\\n",
       "\tENSG00000000938 & FGR      &    0     &   22     &  701     &    5     &    2     &    4     &   89     &    4     &    2     & ⋯        &   46     &   14     & 303      & 2007     &   58     &   77     & 1037     &   11     &  174     &  22     \\\\\n",
       "\\end{tabular}\n"
      ],
      "text/markdown": [
       "\n",
       "| <!--/--> | GENE_NAME | ALMC1_DJ_p27 | ALMC2_DJ_p11 | AMO1_DSMZ_p8 | ANBL6_DJ2_p13 | COLO677_DSMZ_p8 | Delta47_JCRB_p16 | DP6_DJ_p7 | EJM_DSMZ_p9 | FLAM76_JCRB_p10 | ⋯ | MMRF_2379_1_BM | MMRF_1474_1_BM | MMRF_1641_1_BM | MMRF_1978_2_BM | MMRF_2795_1_BM | MMRF_2316_1_BM | MMRF_2606_2_BM | MMRF_2440_1_BM | MMRF_2731_1_BM | MMRF_1355_1_BM | \n",
       "|---|---|---|---|---|---|\n",
       "| ENSG00000000003 | TSPAN6   |    2     |    0     |  100     |    2     |    0     |    0     |    2     |   88     |    4     | ⋯        |    2     |  186     | 102      |  347     |  128     |   17     |   11     |    3     |   18     |   6      | \n",
       "| ENSG00000000005 | TNMD     |    1     |    0     |    0     |    0     |    1     |    0     |    0     |    0     |    0     | ⋯        |    0     |    0     |   0      |    0     |    0     |    0     |    1     |    0     |    0     |   0      | \n",
       "| ENSG00000000419 | DPM1     | 3949     | 4134     | 4795     | 8278     | 2262     | 2587     | 3607     | 2450     | 1388     | ⋯        | 2459     | 1269     | 337      | 3347     | 1049     | 2545     | 1625     | 1253     | 1905     | 683      | \n",
       "| ENSG00000000457 | SCYL3    | 1597     | 1513     | 2412     | 1988     | 1530     |  926     | 1415     |  573     | 1013     | ⋯        |  734     |  771     | 327      |  392     |   90     |  406     |  857     |  548     |  808     | 393      | \n",
       "| ENSG00000000460 | C1orf112 | 3072     | 1488     | 2193     | 4091     | 3208     | 1170     | 3614     | 1618     | 1507     | ⋯        |  267     |  104     | 114      |  126     |   17     |   67     |  196     |  141     |  199     |  55      | \n",
       "| ENSG00000000938 | FGR      |    0     |   22     |  701     |    5     |    2     |    4     |   89     |    4     |    2     | ⋯        |   46     |   14     | 303      | 2007     |   58     |   77     | 1037     |   11     |  174     |  22      | \n",
       "\n",
       "\n"
      ],
      "text/plain": [
       "                GENE_NAME ALMC1_DJ_p27 ALMC2_DJ_p11 AMO1_DSMZ_p8 ANBL6_DJ2_p13\n",
       "ENSG00000000003 TSPAN6       2            0          100            2         \n",
       "ENSG00000000005 TNMD         1            0            0            0         \n",
       "ENSG00000000419 DPM1      3949         4134         4795         8278         \n",
       "ENSG00000000457 SCYL3     1597         1513         2412         1988         \n",
       "ENSG00000000460 C1orf112  3072         1488         2193         4091         \n",
       "ENSG00000000938 FGR          0           22          701            5         \n",
       "                COLO677_DSMZ_p8 Delta47_JCRB_p16 DP6_DJ_p7 EJM_DSMZ_p9\n",
       "ENSG00000000003    0               0                2        88       \n",
       "ENSG00000000005    1               0                0         0       \n",
       "ENSG00000000419 2262            2587             3607      2450       \n",
       "ENSG00000000457 1530             926             1415       573       \n",
       "ENSG00000000460 3208            1170             3614      1618       \n",
       "ENSG00000000938    2               4               89         4       \n",
       "                FLAM76_JCRB_p10 ⋯ MMRF_2379_1_BM MMRF_1474_1_BM MMRF_1641_1_BM\n",
       "ENSG00000000003    4            ⋯    2            186           102           \n",
       "ENSG00000000005    0            ⋯    0              0             0           \n",
       "ENSG00000000419 1388            ⋯ 2459           1269           337           \n",
       "ENSG00000000457 1013            ⋯  734            771           327           \n",
       "ENSG00000000460 1507            ⋯  267            104           114           \n",
       "ENSG00000000938    2            ⋯   46             14           303           \n",
       "                MMRF_1978_2_BM MMRF_2795_1_BM MMRF_2316_1_BM MMRF_2606_2_BM\n",
       "ENSG00000000003  347            128             17             11          \n",
       "ENSG00000000005    0              0              0              1          \n",
       "ENSG00000000419 3347           1049           2545           1625          \n",
       "ENSG00000000457  392             90            406            857          \n",
       "ENSG00000000460  126             17             67            196          \n",
       "ENSG00000000938 2007             58             77           1037          \n",
       "                MMRF_2440_1_BM MMRF_2731_1_BM MMRF_1355_1_BM\n",
       "ENSG00000000003    3             18             6           \n",
       "ENSG00000000005    0              0             0           \n",
       "ENSG00000000419 1253           1905           683           \n",
       "ENSG00000000457  548            808           393           \n",
       "ENSG00000000460  141            199            55           \n",
       "ENSG00000000938   11            174            22           "
      ]
     },
     "metadata": {},
     "output_type": "display_data"
    }
   ],
   "source": [
    "MM_cell_line = MM_cell_line[ensembl_intersect, -1]\n",
    "MM_patients = MM_patients[ensembl_intersect, -1]\n",
    "MM_patient_ids = data.frame(colnames(MM_patients))\n",
    "MM_patients_new = filter(MM_patient_ids, str_extract(MM_patient_ids[,1], \"_[0-9]_\") == \"_1_\")\n",
    "keepc = colnames(MM_patients) %in% MM_patients_new[,1]\n",
    "MM_patients = MM_patients[,keepc]\n",
    "\n",
    "#filtering MM_cell_line and MM_patients to only those genes in common and taking out \n",
    "    #Gene name and ensembl ID columns, then combining them\n",
    "\n",
    "head(MM_cell_line)\n",
    "head(MM_patients)\n",
    "head(MM_combined)\n",
    "\n",
    "#checking output head"
   ]
  },
  {
   "cell_type": "code",
   "execution_count": 34,
   "metadata": {},
   "outputs": [
    {
     "data": {
      "text/html": [
       "<table>\n",
       "<thead><tr><th></th><th scope=col>ALMC1_DJ_p27</th><th scope=col>ALMC2_DJ_p11</th><th scope=col>AMO1_DSMZ_p8</th><th scope=col>ANBL6_DJ2_p13</th><th scope=col>COLO677_DSMZ_p8</th><th scope=col>Delta47_JCRB_p16</th><th scope=col>DP6_DJ_p7</th><th scope=col>EJM_DSMZ_p9</th><th scope=col>FLAM76_JCRB_p10</th><th scope=col>FR4_p6</th><th scope=col>⋯</th><th scope=col>RPMI8226_ATCC_p7</th><th scope=col>SKMM1_p6</th><th scope=col>SKMM2_DSMZ_p17</th><th scope=col>U266_ATCC_p8</th><th scope=col>UTMC2_p6</th><th scope=col>VP6_DJ_p5</th><th scope=col>XG1_p5</th><th scope=col>XG2_p5</th><th scope=col>XG6_p5</th><th scope=col>XG7_p6</th></tr></thead>\n",
       "<tbody>\n",
       "\t<tr><th scope=row>ENSG00000000003</th><td> 0.02834975 </td><td> 0.0000000  </td><td> 1.622395   </td><td> 0.02336384 </td><td> 0.00000000 </td><td> 0.00000000 </td><td> 0.02991395 </td><td> 1.84606143 </td><td> 0.08252468 </td><td> 0.00000    </td><td>⋯           </td><td> 0.04066095 </td><td> 0.00000000 </td><td> 0.000000   </td><td> 0.000000   </td><td> 0.00000    </td><td> 0.00000    </td><td>  0.00000   </td><td> 0.00000000 </td><td>  0.03073836</td><td>  1.460413  </td></tr>\n",
       "\t<tr><th scope=row>ENSG00000000005</th><td> 0.01417488 </td><td> 0.0000000  </td><td> 0.000000   </td><td> 0.00000000 </td><td> 0.01371330 </td><td> 0.00000000 </td><td> 0.00000000 </td><td> 0.00000000 </td><td> 0.00000000 </td><td> 0.00000    </td><td>⋯           </td><td> 0.00000000 </td><td> 0.02448497 </td><td> 0.000000   </td><td> 0.000000   </td><td> 0.00000    </td><td> 0.00000    </td><td>  0.00000   </td><td> 0.00000000 </td><td>  0.00000000</td><td>  0.000000  </td></tr>\n",
       "\t<tr><th scope=row>ENSG00000000419</th><td>55.97658401 </td><td>51.2687903  </td><td>77.793863   </td><td>96.70295153 </td><td>31.01947819 </td><td>46.41255860 </td><td>53.94981686 </td><td>51.39602836 </td><td>28.63606308 </td><td>90.65327    </td><td>⋯           </td><td>54.77030556 </td><td>30.53276243 </td><td>65.452450   </td><td>53.700359   </td><td>41.32766    </td><td>65.86048    </td><td>109.42511   </td><td>58.79794048 </td><td>142.61060806</td><td>177.145577  </td></tr>\n",
       "\t<tr><th scope=row>ENSG00000000457</th><td>22.63727644 </td><td>18.7638316  </td><td>39.132179   </td><td>23.22366123 </td><td>20.98134466 </td><td>16.61307664 </td><td>21.16412278 </td><td>12.02037725 </td><td>20.89937457 </td><td>33.76204    </td><td>⋯           </td><td>13.51976733 </td><td>24.33806403 </td><td> 9.969313   </td><td>28.420262   </td><td>21.31539    </td><td>19.95552    </td><td> 21.27047   </td><td>11.85249681 </td><td> 23.66853502</td><td> 21.265668  </td></tr>\n",
       "\t<tr><th scope=row>ENSG00000000460</th><td>43.54521805 </td><td>18.4537881  </td><td>35.579133   </td><td>47.79074350 </td><td>43.99225731 </td><td>20.99060439 </td><td>54.05451570 </td><td>33.94235669 </td><td>31.09117223 </td><td>40.85974    </td><td>⋯           </td><td>29.92646243 </td><td>37.14370537 </td><td>26.999386   </td><td>36.482372   </td><td>41.59361    </td><td>26.84925    </td><td> 37.61861   </td><td>30.79260088 </td><td> 12.18775862</td><td>  8.826533  </td></tr>\n",
       "\t<tr><th scope=row>ENSG00000000938</th><td> 0.00000000 </td><td> 0.2728383  </td><td>11.372992   </td><td> 0.05840961 </td><td> 0.02742659 </td><td> 0.07176275 </td><td> 1.33117097 </td><td> 0.08391188 </td><td> 0.04126234 </td><td>62.23506    </td><td>⋯           </td><td> 0.00000000 </td><td> 3.06062173 </td><td>15.585827   </td><td> 0.882069   </td><td>25.13169    </td><td>33.59784    </td><td> 22.58310   </td><td> 0.06636336 </td><td> 58.03401832</td><td> 10.850615  </td></tr>\n",
       "</tbody>\n",
       "</table>\n"
      ],
      "text/latex": [
       "\\begin{tabular}{r|llllllllllllllllllllllllllllllllllllllllllllllllllllllllllllllllll}\n",
       "  & ALMC1\\_DJ\\_p27 & ALMC2\\_DJ\\_p11 & AMO1\\_DSMZ\\_p8 & ANBL6\\_DJ2\\_p13 & COLO677\\_DSMZ\\_p8 & Delta47\\_JCRB\\_p16 & DP6\\_DJ\\_p7 & EJM\\_DSMZ\\_p9 & FLAM76\\_JCRB\\_p10 & FR4\\_p6 & ⋯ & RPMI8226\\_ATCC\\_p7 & SKMM1\\_p6 & SKMM2\\_DSMZ\\_p17 & U266\\_ATCC\\_p8 & UTMC2\\_p6 & VP6\\_DJ\\_p5 & XG1\\_p5 & XG2\\_p5 & XG6\\_p5 & XG7\\_p6\\\\\n",
       "\\hline\n",
       "\tENSG00000000003 &  0.02834975  &  0.0000000   &  1.622395    &  0.02336384  &  0.00000000  &  0.00000000  &  0.02991395  &  1.84606143  &  0.08252468  &  0.00000     & ⋯            &  0.04066095  &  0.00000000  &  0.000000    &  0.000000    &  0.00000     &  0.00000     &   0.00000    &  0.00000000  &   0.03073836 &   1.460413  \\\\\n",
       "\tENSG00000000005 &  0.01417488  &  0.0000000   &  0.000000    &  0.00000000  &  0.01371330  &  0.00000000  &  0.00000000  &  0.00000000  &  0.00000000  &  0.00000     & ⋯            &  0.00000000  &  0.02448497  &  0.000000    &  0.000000    &  0.00000     &  0.00000     &   0.00000    &  0.00000000  &   0.00000000 &   0.000000  \\\\\n",
       "\tENSG00000000419 & 55.97658401  & 51.2687903   & 77.793863    & 96.70295153  & 31.01947819  & 46.41255860  & 53.94981686  & 51.39602836  & 28.63606308  & 90.65327     & ⋯            & 54.77030556  & 30.53276243  & 65.452450    & 53.700359    & 41.32766     & 65.86048     & 109.42511    & 58.79794048  & 142.61060806 & 177.145577  \\\\\n",
       "\tENSG00000000457 & 22.63727644  & 18.7638316   & 39.132179    & 23.22366123  & 20.98134466  & 16.61307664  & 21.16412278  & 12.02037725  & 20.89937457  & 33.76204     & ⋯            & 13.51976733  & 24.33806403  &  9.969313    & 28.420262    & 21.31539     & 19.95552     &  21.27047    & 11.85249681  &  23.66853502 &  21.265668  \\\\\n",
       "\tENSG00000000460 & 43.54521805  & 18.4537881   & 35.579133    & 47.79074350  & 43.99225731  & 20.99060439  & 54.05451570  & 33.94235669  & 31.09117223  & 40.85974     & ⋯            & 29.92646243  & 37.14370537  & 26.999386    & 36.482372    & 41.59361     & 26.84925     &  37.61861    & 30.79260088  &  12.18775862 &   8.826533  \\\\\n",
       "\tENSG00000000938 &  0.00000000  &  0.2728383   & 11.372992    &  0.05840961  &  0.02742659  &  0.07176275  &  1.33117097  &  0.08391188  &  0.04126234  & 62.23506     & ⋯            &  0.00000000  &  3.06062173  & 15.585827    &  0.882069    & 25.13169     & 33.59784     &  22.58310    &  0.06636336  &  58.03401832 &  10.850615  \\\\\n",
       "\\end{tabular}\n"
      ],
      "text/markdown": [
       "\n",
       "| <!--/--> | ALMC1_DJ_p27 | ALMC2_DJ_p11 | AMO1_DSMZ_p8 | ANBL6_DJ2_p13 | COLO677_DSMZ_p8 | Delta47_JCRB_p16 | DP6_DJ_p7 | EJM_DSMZ_p9 | FLAM76_JCRB_p10 | FR4_p6 | ⋯ | RPMI8226_ATCC_p7 | SKMM1_p6 | SKMM2_DSMZ_p17 | U266_ATCC_p8 | UTMC2_p6 | VP6_DJ_p5 | XG1_p5 | XG2_p5 | XG6_p5 | XG7_p6 | \n",
       "|---|---|---|---|---|---|\n",
       "| ENSG00000000003 |  0.02834975  |  0.0000000   |  1.622395    |  0.02336384  |  0.00000000  |  0.00000000  |  0.02991395  |  1.84606143  |  0.08252468  |  0.00000     | ⋯            |  0.04066095  |  0.00000000  |  0.000000    |  0.000000    |  0.00000     |  0.00000     |   0.00000    |  0.00000000  |   0.03073836 |   1.460413   | \n",
       "| ENSG00000000005 |  0.01417488  |  0.0000000   |  0.000000    |  0.00000000  |  0.01371330  |  0.00000000  |  0.00000000  |  0.00000000  |  0.00000000  |  0.00000     | ⋯            |  0.00000000  |  0.02448497  |  0.000000    |  0.000000    |  0.00000     |  0.00000     |   0.00000    |  0.00000000  |   0.00000000 |   0.000000   | \n",
       "| ENSG00000000419 | 55.97658401  | 51.2687903   | 77.793863    | 96.70295153  | 31.01947819  | 46.41255860  | 53.94981686  | 51.39602836  | 28.63606308  | 90.65327     | ⋯            | 54.77030556  | 30.53276243  | 65.452450    | 53.700359    | 41.32766     | 65.86048     | 109.42511    | 58.79794048  | 142.61060806 | 177.145577   | \n",
       "| ENSG00000000457 | 22.63727644  | 18.7638316   | 39.132179    | 23.22366123  | 20.98134466  | 16.61307664  | 21.16412278  | 12.02037725  | 20.89937457  | 33.76204     | ⋯            | 13.51976733  | 24.33806403  |  9.969313    | 28.420262    | 21.31539     | 19.95552     |  21.27047    | 11.85249681  |  23.66853502 |  21.265668   | \n",
       "| ENSG00000000460 | 43.54521805  | 18.4537881   | 35.579133    | 47.79074350  | 43.99225731  | 20.99060439  | 54.05451570  | 33.94235669  | 31.09117223  | 40.85974     | ⋯            | 29.92646243  | 37.14370537  | 26.999386    | 36.482372    | 41.59361     | 26.84925     |  37.61861    | 30.79260088  |  12.18775862 |   8.826533   | \n",
       "| ENSG00000000938 |  0.00000000  |  0.2728383   | 11.372992    |  0.05840961  |  0.02742659  |  0.07176275  |  1.33117097  |  0.08391188  |  0.04126234  | 62.23506     | ⋯            |  0.00000000  |  3.06062173  | 15.585827    |  0.882069    | 25.13169     | 33.59784     |  22.58310    |  0.06636336  |  58.03401832 |  10.850615   | \n",
       "\n",
       "\n"
      ],
      "text/plain": [
       "                ALMC1_DJ_p27 ALMC2_DJ_p11 AMO1_DSMZ_p8 ANBL6_DJ2_p13\n",
       "ENSG00000000003  0.02834975   0.0000000    1.622395     0.02336384  \n",
       "ENSG00000000005  0.01417488   0.0000000    0.000000     0.00000000  \n",
       "ENSG00000000419 55.97658401  51.2687903   77.793863    96.70295153  \n",
       "ENSG00000000457 22.63727644  18.7638316   39.132179    23.22366123  \n",
       "ENSG00000000460 43.54521805  18.4537881   35.579133    47.79074350  \n",
       "ENSG00000000938  0.00000000   0.2728383   11.372992     0.05840961  \n",
       "                COLO677_DSMZ_p8 Delta47_JCRB_p16 DP6_DJ_p7   EJM_DSMZ_p9\n",
       "ENSG00000000003  0.00000000      0.00000000       0.02991395  1.84606143\n",
       "ENSG00000000005  0.01371330      0.00000000       0.00000000  0.00000000\n",
       "ENSG00000000419 31.01947819     46.41255860      53.94981686 51.39602836\n",
       "ENSG00000000457 20.98134466     16.61307664      21.16412278 12.02037725\n",
       "ENSG00000000460 43.99225731     20.99060439      54.05451570 33.94235669\n",
       "ENSG00000000938  0.02742659      0.07176275       1.33117097  0.08391188\n",
       "                FLAM76_JCRB_p10 FR4_p6   ⋯ RPMI8226_ATCC_p7 SKMM1_p6   \n",
       "ENSG00000000003  0.08252468      0.00000 ⋯  0.04066095       0.00000000\n",
       "ENSG00000000005  0.00000000      0.00000 ⋯  0.00000000       0.02448497\n",
       "ENSG00000000419 28.63606308     90.65327 ⋯ 54.77030556      30.53276243\n",
       "ENSG00000000457 20.89937457     33.76204 ⋯ 13.51976733      24.33806403\n",
       "ENSG00000000460 31.09117223     40.85974 ⋯ 29.92646243      37.14370537\n",
       "ENSG00000000938  0.04126234     62.23506 ⋯  0.00000000       3.06062173\n",
       "                SKMM2_DSMZ_p17 U266_ATCC_p8 UTMC2_p6 VP6_DJ_p5 XG1_p5   \n",
       "ENSG00000000003  0.000000       0.000000     0.00000  0.00000    0.00000\n",
       "ENSG00000000005  0.000000       0.000000     0.00000  0.00000    0.00000\n",
       "ENSG00000000419 65.452450      53.700359    41.32766 65.86048  109.42511\n",
       "ENSG00000000457  9.969313      28.420262    21.31539 19.95552   21.27047\n",
       "ENSG00000000460 26.999386      36.482372    41.59361 26.84925   37.61861\n",
       "ENSG00000000938 15.585827       0.882069    25.13169 33.59784   22.58310\n",
       "                XG2_p5      XG6_p5       XG7_p6    \n",
       "ENSG00000000003  0.00000000   0.03073836   1.460413\n",
       "ENSG00000000005  0.00000000   0.00000000   0.000000\n",
       "ENSG00000000419 58.79794048 142.61060806 177.145577\n",
       "ENSG00000000457 11.85249681  23.66853502  21.265668\n",
       "ENSG00000000460 30.79260088  12.18775862   8.826533\n",
       "ENSG00000000938  0.06636336  58.03401832  10.850615"
      ]
     },
     "metadata": {},
     "output_type": "display_data"
    },
    {
     "data": {
      "text/html": [
       "<table>\n",
       "<thead><tr><th></th><th scope=col>MMRF_2801_1_BM</th><th scope=col>MMRF_2718_1_BM</th><th scope=col>MMRF_2815_1_BM</th><th scope=col>MMRF_1656_1_BM</th><th scope=col>MMRF_2461_1_BM</th><th scope=col>MMRF_2057_1_BM</th><th scope=col>MMRF_1910_1_BM</th><th scope=col>MMRF_2341_1_BM</th><th scope=col>MMRF_2501_1_BM</th><th scope=col>MMRF_1383_1_BM</th><th scope=col>⋯</th><th scope=col>MMRF_1731_1_BM</th><th scope=col>MMRF_2799_1_BM</th><th scope=col>MMRF_2379_1_BM</th><th scope=col>MMRF_1474_1_BM</th><th scope=col>MMRF_1641_1_BM</th><th scope=col>MMRF_2795_1_BM</th><th scope=col>MMRF_2316_1_BM</th><th scope=col>MMRF_2440_1_BM</th><th scope=col>MMRF_2731_1_BM</th><th scope=col>MMRF_1355_1_BM</th></tr></thead>\n",
       "<tbody>\n",
       "\t<tr><th scope=row>ENSG00000000003</th><td> 0.41571843</td><td>15.194298  </td><td> 1.9975817 </td><td> 0.18506125</td><td> 9.58358567</td><td> 0.2422773 </td><td> 0.2571051 </td><td> 0.57555389</td><td> 7.5451838 </td><td>20.2371987 </td><td>⋯          </td><td> 0.02036196</td><td> 0.8435951 </td><td> 0.02949247</td><td> 3.1089737 </td><td>2.013385   </td><td> 2.8256961 </td><td> 0.2622789 </td><td> 0.05961647</td><td> 0.2925792 </td><td> 0.1861177 </td></tr>\n",
       "\t<tr><th scope=row>ENSG00000000005</th><td> 0.02445403</td><td> 0.000000  </td><td> 0.0000000 </td><td> 0.04112472</td><td> 0.03589358</td><td> 0.0000000 </td><td> 0.0000000 </td><td> 0.01338497</td><td> 0.0000000 </td><td> 0.0000000 </td><td>⋯          </td><td> 0.00000000</td><td> 0.0000000 </td><td> 0.00000000</td><td> 0.0000000 </td><td>0.000000   </td><td> 0.0000000 </td><td> 0.0000000 </td><td> 0.00000000</td><td> 0.0000000 </td><td> 0.0000000 </td></tr>\n",
       "\t<tr><th scope=row>ENSG00000000419</th><td>36.55876793</td><td>49.750299  </td><td>54.1227124 </td><td>25.37395378</td><td>22.68474210</td><td>40.6420105 </td><td>28.0405222 </td><td>32.16409293</td><td>23.4612029 </td><td>28.4138446 </td><td>⋯          </td><td>35.65378598</td><td>43.6775686 </td><td>36.26098596</td><td>21.2112241 </td><td>6.652067   </td><td>23.1574629 </td><td>39.2646952 </td><td>24.89981253</td><td>30.9646322 </td><td>21.1863986 </td></tr>\n",
       "\t<tr><th scope=row>ENSG00000000457</th><td> 5.64887986</td><td>12.304492  </td><td> 4.7706950 </td><td>24.83933239</td><td> 5.08492373</td><td>14.3347379 </td><td>14.8156799 </td><td>16.10212393</td><td>14.7347024 </td><td>17.1417541 </td><td>⋯          </td><td>10.03844460</td><td> 3.7875700 </td><td>10.82373473</td><td>12.8871976 </td><td>6.454676   </td><td> 1.9868176 </td><td> 6.2638374 </td><td>10.88994195</td><td>13.1335553 </td><td>12.1907096 </td></tr>\n",
       "\t<tr><th scope=row>ENSG00000000460</th><td> 2.12750021</td><td> 4.851833  </td><td> 0.7285298 </td><td> 3.76291211</td><td> 1.01698475</td><td> 3.5130203 </td><td> 4.6921676 </td><td> 6.39801765</td><td> 2.7691079 </td><td> 3.1246468 </td><td>⋯          </td><td> 2.11764348</td><td> 0.8608114 </td><td> 3.93724410</td><td> 1.7383509 </td><td>2.250254   </td><td> 0.3752878 </td><td> 1.0336875 </td><td> 2.80197412</td><td> 3.2346256 </td><td> 1.7060790 </td></tr>\n",
       "\t<tr><th scope=row>ENSG00000000938</th><td> 7.77638007</td><td> 1.596998  </td><td> 2.7966143 </td><td> 3.90684864</td><td>24.69478254</td><td> 0.2422773 </td><td> 5.6402426 </td><td> 7.42866066</td><td> 0.4699862 </td><td> 0.6132484 </td><td>⋯          </td><td>62.38903497</td><td> 0.7919465 </td><td> 0.67832670</td><td> 0.2340088 </td><td>5.980938   </td><td> 1.2803936 </td><td> 1.1879692 </td><td> 0.21859373</td><td> 2.8282656 </td><td> 0.6824316 </td></tr>\n",
       "</tbody>\n",
       "</table>\n"
      ],
      "text/latex": [
       "\\begin{tabular}{r|lllllllllllllllllllllllllllllllllllllllllllllllllllllllllllllllllllllllllllllllllllllllllllllllllllllllllllllllllllllllllllllllllllllllllllllllllllllllllllllllllllllllllllllllllllllllllllllllllllllllllllllllllllllllllllllllllllllllllllllllllllllllllllllllllllllllllllllllllllllllllllllllllllllllllllllllllllllllllllllllllllllllllllllllllllllllllllllllllllllllllllllllllllllllllllllllllllllllllllllllllllllllllllllllllllllllllllllllllllllllllllllllllllllllllllllllllllllllllllllllllllllllllllllllllllllllllllllllllllllllllllllllllllllllllllllllllllllllllllllllllllllllllllllllllllllllllllllllllllllllllllllllllllllllllllllllllllllllllllllllllllllllllllllllllllllllllllllllllllllllllllllllllllllllllllllllllllllllllllllllllllllllllllllllllllllllllllllllllllllllllllllllllllllllllll}\n",
       "  & MMRF\\_2801\\_1\\_BM & MMRF\\_2718\\_1\\_BM & MMRF\\_2815\\_1\\_BM & MMRF\\_1656\\_1\\_BM & MMRF\\_2461\\_1\\_BM & MMRF\\_2057\\_1\\_BM & MMRF\\_1910\\_1\\_BM & MMRF\\_2341\\_1\\_BM & MMRF\\_2501\\_1\\_BM & MMRF\\_1383\\_1\\_BM & ⋯ & MMRF\\_1731\\_1\\_BM & MMRF\\_2799\\_1\\_BM & MMRF\\_2379\\_1\\_BM & MMRF\\_1474\\_1\\_BM & MMRF\\_1641\\_1\\_BM & MMRF\\_2795\\_1\\_BM & MMRF\\_2316\\_1\\_BM & MMRF\\_2440\\_1\\_BM & MMRF\\_2731\\_1\\_BM & MMRF\\_1355\\_1\\_BM\\\\\n",
       "\\hline\n",
       "\tENSG00000000003 &  0.41571843 & 15.194298   &  1.9975817  &  0.18506125 &  9.58358567 &  0.2422773  &  0.2571051  &  0.57555389 &  7.5451838  & 20.2371987  & ⋯           &  0.02036196 &  0.8435951  &  0.02949247 &  3.1089737  & 2.013385    &  2.8256961  &  0.2622789  &  0.05961647 &  0.2925792  &  0.1861177 \\\\\n",
       "\tENSG00000000005 &  0.02445403 &  0.000000   &  0.0000000  &  0.04112472 &  0.03589358 &  0.0000000  &  0.0000000  &  0.01338497 &  0.0000000  &  0.0000000  & ⋯           &  0.00000000 &  0.0000000  &  0.00000000 &  0.0000000  & 0.000000    &  0.0000000  &  0.0000000  &  0.00000000 &  0.0000000  &  0.0000000 \\\\\n",
       "\tENSG00000000419 & 36.55876793 & 49.750299   & 54.1227124  & 25.37395378 & 22.68474210 & 40.6420105  & 28.0405222  & 32.16409293 & 23.4612029  & 28.4138446  & ⋯           & 35.65378598 & 43.6775686  & 36.26098596 & 21.2112241  & 6.652067    & 23.1574629  & 39.2646952  & 24.89981253 & 30.9646322  & 21.1863986 \\\\\n",
       "\tENSG00000000457 &  5.64887986 & 12.304492   &  4.7706950  & 24.83933239 &  5.08492373 & 14.3347379  & 14.8156799  & 16.10212393 & 14.7347024  & 17.1417541  & ⋯           & 10.03844460 &  3.7875700  & 10.82373473 & 12.8871976  & 6.454676    &  1.9868176  &  6.2638374  & 10.88994195 & 13.1335553  & 12.1907096 \\\\\n",
       "\tENSG00000000460 &  2.12750021 &  4.851833   &  0.7285298  &  3.76291211 &  1.01698475 &  3.5130203  &  4.6921676  &  6.39801765 &  2.7691079  &  3.1246468  & ⋯           &  2.11764348 &  0.8608114  &  3.93724410 &  1.7383509  & 2.250254    &  0.3752878  &  1.0336875  &  2.80197412 &  3.2346256  &  1.7060790 \\\\\n",
       "\tENSG00000000938 &  7.77638007 &  1.596998   &  2.7966143  &  3.90684864 & 24.69478254 &  0.2422773  &  5.6402426  &  7.42866066 &  0.4699862  &  0.6132484  & ⋯           & 62.38903497 &  0.7919465  &  0.67832670 &  0.2340088  & 5.980938    &  1.2803936  &  1.1879692  &  0.21859373 &  2.8282656  &  0.6824316 \\\\\n",
       "\\end{tabular}\n"
      ],
      "text/markdown": [
       "\n",
       "| <!--/--> | MMRF_2801_1_BM | MMRF_2718_1_BM | MMRF_2815_1_BM | MMRF_1656_1_BM | MMRF_2461_1_BM | MMRF_2057_1_BM | MMRF_1910_1_BM | MMRF_2341_1_BM | MMRF_2501_1_BM | MMRF_1383_1_BM | ⋯ | MMRF_1731_1_BM | MMRF_2799_1_BM | MMRF_2379_1_BM | MMRF_1474_1_BM | MMRF_1641_1_BM | MMRF_2795_1_BM | MMRF_2316_1_BM | MMRF_2440_1_BM | MMRF_2731_1_BM | MMRF_1355_1_BM | \n",
       "|---|---|---|---|---|---|\n",
       "| ENSG00000000003 |  0.41571843 | 15.194298   |  1.9975817  |  0.18506125 |  9.58358567 |  0.2422773  |  0.2571051  |  0.57555389 |  7.5451838  | 20.2371987  | ⋯           |  0.02036196 |  0.8435951  |  0.02949247 |  3.1089737  | 2.013385    |  2.8256961  |  0.2622789  |  0.05961647 |  0.2925792  |  0.1861177  | \n",
       "| ENSG00000000005 |  0.02445403 |  0.000000   |  0.0000000  |  0.04112472 |  0.03589358 |  0.0000000  |  0.0000000  |  0.01338497 |  0.0000000  |  0.0000000  | ⋯           |  0.00000000 |  0.0000000  |  0.00000000 |  0.0000000  | 0.000000    |  0.0000000  |  0.0000000  |  0.00000000 |  0.0000000  |  0.0000000  | \n",
       "| ENSG00000000419 | 36.55876793 | 49.750299   | 54.1227124  | 25.37395378 | 22.68474210 | 40.6420105  | 28.0405222  | 32.16409293 | 23.4612029  | 28.4138446  | ⋯           | 35.65378598 | 43.6775686  | 36.26098596 | 21.2112241  | 6.652067    | 23.1574629  | 39.2646952  | 24.89981253 | 30.9646322  | 21.1863986  | \n",
       "| ENSG00000000457 |  5.64887986 | 12.304492   |  4.7706950  | 24.83933239 |  5.08492373 | 14.3347379  | 14.8156799  | 16.10212393 | 14.7347024  | 17.1417541  | ⋯           | 10.03844460 |  3.7875700  | 10.82373473 | 12.8871976  | 6.454676    |  1.9868176  |  6.2638374  | 10.88994195 | 13.1335553  | 12.1907096  | \n",
       "| ENSG00000000460 |  2.12750021 |  4.851833   |  0.7285298  |  3.76291211 |  1.01698475 |  3.5130203  |  4.6921676  |  6.39801765 |  2.7691079  |  3.1246468  | ⋯           |  2.11764348 |  0.8608114  |  3.93724410 |  1.7383509  | 2.250254    |  0.3752878  |  1.0336875  |  2.80197412 |  3.2346256  |  1.7060790  | \n",
       "| ENSG00000000938 |  7.77638007 |  1.596998   |  2.7966143  |  3.90684864 | 24.69478254 |  0.2422773  |  5.6402426  |  7.42866066 |  0.4699862  |  0.6132484  | ⋯           | 62.38903497 |  0.7919465  |  0.67832670 |  0.2340088  | 5.980938    |  1.2803936  |  1.1879692  |  0.21859373 |  2.8282656  |  0.6824316  | \n",
       "\n",
       "\n"
      ],
      "text/plain": [
       "                MMRF_2801_1_BM MMRF_2718_1_BM MMRF_2815_1_BM MMRF_1656_1_BM\n",
       "ENSG00000000003  0.41571843    15.194298       1.9975817      0.18506125   \n",
       "ENSG00000000005  0.02445403     0.000000       0.0000000      0.04112472   \n",
       "ENSG00000000419 36.55876793    49.750299      54.1227124     25.37395378   \n",
       "ENSG00000000457  5.64887986    12.304492       4.7706950     24.83933239   \n",
       "ENSG00000000460  2.12750021     4.851833       0.7285298      3.76291211   \n",
       "ENSG00000000938  7.77638007     1.596998       2.7966143      3.90684864   \n",
       "                MMRF_2461_1_BM MMRF_2057_1_BM MMRF_1910_1_BM MMRF_2341_1_BM\n",
       "ENSG00000000003  9.58358567     0.2422773      0.2571051      0.57555389   \n",
       "ENSG00000000005  0.03589358     0.0000000      0.0000000      0.01338497   \n",
       "ENSG00000000419 22.68474210    40.6420105     28.0405222     32.16409293   \n",
       "ENSG00000000457  5.08492373    14.3347379     14.8156799     16.10212393   \n",
       "ENSG00000000460  1.01698475     3.5130203      4.6921676      6.39801765   \n",
       "ENSG00000000938 24.69478254     0.2422773      5.6402426      7.42866066   \n",
       "                MMRF_2501_1_BM MMRF_1383_1_BM ⋯ MMRF_1731_1_BM MMRF_2799_1_BM\n",
       "ENSG00000000003  7.5451838     20.2371987     ⋯  0.02036196     0.8435951    \n",
       "ENSG00000000005  0.0000000      0.0000000     ⋯  0.00000000     0.0000000    \n",
       "ENSG00000000419 23.4612029     28.4138446     ⋯ 35.65378598    43.6775686    \n",
       "ENSG00000000457 14.7347024     17.1417541     ⋯ 10.03844460     3.7875700    \n",
       "ENSG00000000460  2.7691079      3.1246468     ⋯  2.11764348     0.8608114    \n",
       "ENSG00000000938  0.4699862      0.6132484     ⋯ 62.38903497     0.7919465    \n",
       "                MMRF_2379_1_BM MMRF_1474_1_BM MMRF_1641_1_BM MMRF_2795_1_BM\n",
       "ENSG00000000003  0.02949247     3.1089737     2.013385        2.8256961    \n",
       "ENSG00000000005  0.00000000     0.0000000     0.000000        0.0000000    \n",
       "ENSG00000000419 36.26098596    21.2112241     6.652067       23.1574629    \n",
       "ENSG00000000457 10.82373473    12.8871976     6.454676        1.9868176    \n",
       "ENSG00000000460  3.93724410     1.7383509     2.250254        0.3752878    \n",
       "ENSG00000000938  0.67832670     0.2340088     5.980938        1.2803936    \n",
       "                MMRF_2316_1_BM MMRF_2440_1_BM MMRF_2731_1_BM MMRF_1355_1_BM\n",
       "ENSG00000000003  0.2622789      0.05961647     0.2925792      0.1861177    \n",
       "ENSG00000000005  0.0000000      0.00000000     0.0000000      0.0000000    \n",
       "ENSG00000000419 39.2646952     24.89981253    30.9646322     21.1863986    \n",
       "ENSG00000000457  6.2638374     10.88994195    13.1335553     12.1907096    \n",
       "ENSG00000000460  1.0336875      2.80197412     3.2346256      1.7060790    \n",
       "ENSG00000000938  1.1879692      0.21859373     2.8282656      0.6824316    "
      ]
     },
     "metadata": {},
     "output_type": "display_data"
    }
   ],
   "source": [
    "MM_cell_line_cpm = cpm(MM_cell_line[,-1])\n",
    "MM_patients_cpm = cpm(MM_patients)\n",
    "\n",
    "#getting counts per million for MM_cell_line, and MM_patients_cpm\n",
    "\n",
    "head(MM_cell_line_cpm)\n",
    "head(MM_patients_cpm)\n",
    "\n",
    "#checking output head"
   ]
  },
  {
   "cell_type": "code",
   "execution_count": 35,
   "metadata": {},
   "outputs": [
    {
     "data": {
      "text/html": [
       "<table>\n",
       "<thead><tr><th></th><th scope=col>MMRF_1656_1_BM</th><th scope=col>MMRF_2501_1_BM</th><th scope=col>MMRF_1383_1_BM</th><th scope=col>MMRF_1466_1_BM</th><th scope=col>MMRF_2400_1_BM</th><th scope=col>MMRF_2549_1_BM</th><th scope=col>MMRF_1423_1_BM</th><th scope=col>MMRF_1328_1_BM</th><th scope=col>MMRF_2445_1_BM</th><th scope=col>MMRF_2286_1_BM</th><th scope=col>⋯</th><th scope=col>MMRF_2574_1_BM</th><th scope=col>MMRF_1876_1_BM</th><th scope=col>MMRF_1862_1_BM</th><th scope=col>MMRF_2118_1_BM</th><th scope=col>MMRF_1510_1_BM</th><th scope=col>MMRF_2498_1_BM</th><th scope=col>MMRF_1274_1_BM</th><th scope=col>MMRF_2265_1_BM</th><th scope=col>MMRF_1641_1_BM</th><th scope=col>MMRF_2440_1_BM</th></tr></thead>\n",
       "<tbody>\n",
       "\t<tr><th scope=row>ENSG00000000003</th><td>   9</td><td> 594</td><td>693 </td><td> 182</td><td>   1</td><td>  34</td><td>140 </td><td>   2</td><td> 162</td><td> 537</td><td>⋯   </td><td>1360</td><td> 402</td><td> 607</td><td>  18</td><td> 437</td><td> 275</td><td>  16</td><td>  45</td><td>102 </td><td>   3</td></tr>\n",
       "\t<tr><th scope=row>ENSG00000000005</th><td>   2</td><td>   0</td><td>  0 </td><td>   1</td><td>   0</td><td>   0</td><td>  0 </td><td>   0</td><td>   1</td><td>   0</td><td>⋯   </td><td>   0</td><td>   0</td><td>   0</td><td>   0</td><td>   0</td><td>   0</td><td>   0</td><td>   0</td><td>  0 </td><td>   0</td></tr>\n",
       "\t<tr><th scope=row>ENSG00000000419</th><td>1234</td><td>1847</td><td>973 </td><td>1426</td><td>2759</td><td>1369</td><td>878 </td><td>2437</td><td>2008</td><td>1698</td><td>⋯   </td><td>2647</td><td>1925</td><td>5411</td><td>3482</td><td>2036</td><td>1941</td><td>1402</td><td>1723</td><td>337 </td><td>1253</td></tr>\n",
       "\t<tr><th scope=row>ENSG00000000457</th><td>1208</td><td>1160</td><td>587 </td><td> 625</td><td> 650</td><td>1883</td><td>381 </td><td>1870</td><td> 694</td><td> 624</td><td>⋯   </td><td>1465</td><td> 917</td><td> 478</td><td>1510</td><td> 780</td><td> 869</td><td> 978</td><td> 908</td><td>327 </td><td> 548</td></tr>\n",
       "\t<tr><th scope=row>ENSG00000000460</th><td> 183</td><td> 218</td><td>107 </td><td> 128</td><td> 229</td><td> 350</td><td> 74 </td><td> 606</td><td> 297</td><td>  66</td><td>⋯   </td><td> 597</td><td> 194</td><td> 125</td><td> 311</td><td> 100</td><td> 100</td><td> 233</td><td> 204</td><td>114 </td><td> 141</td></tr>\n",
       "\t<tr><th scope=row>ENSG00000000938</th><td> 190</td><td>  37</td><td> 21 </td><td>  25</td><td> 124</td><td>  41</td><td>  9 </td><td>  70</td><td> 259</td><td>  35</td><td>⋯   </td><td> 137</td><td>  50</td><td> 320</td><td> 132</td><td>  43</td><td>  10</td><td> 138</td><td> 113</td><td>303 </td><td>  11</td></tr>\n",
       "</tbody>\n",
       "</table>\n"
      ],
      "text/latex": [
       "\\begin{tabular}{r|llllllllllllllllllllllllllllllllllllllllllllllllllllllllllllllllllllllllllllllllllllllllllllllllllllllllllllllllllllllllllllllllllllllllllllllllllllllllllllll}\n",
       "  & MMRF\\_1656\\_1\\_BM & MMRF\\_2501\\_1\\_BM & MMRF\\_1383\\_1\\_BM & MMRF\\_1466\\_1\\_BM & MMRF\\_2400\\_1\\_BM & MMRF\\_2549\\_1\\_BM & MMRF\\_1423\\_1\\_BM & MMRF\\_1328\\_1\\_BM & MMRF\\_2445\\_1\\_BM & MMRF\\_2286\\_1\\_BM & ⋯ & MMRF\\_2574\\_1\\_BM & MMRF\\_1876\\_1\\_BM & MMRF\\_1862\\_1\\_BM & MMRF\\_2118\\_1\\_BM & MMRF\\_1510\\_1\\_BM & MMRF\\_2498\\_1\\_BM & MMRF\\_1274\\_1\\_BM & MMRF\\_2265\\_1\\_BM & MMRF\\_1641\\_1\\_BM & MMRF\\_2440\\_1\\_BM\\\\\n",
       "\\hline\n",
       "\tENSG00000000003 &    9 &  594 & 693  &  182 &    1 &   34 & 140  &    2 &  162 &  537 & ⋯    & 1360 &  402 &  607 &   18 &  437 &  275 &   16 &   45 & 102  &    3\\\\\n",
       "\tENSG00000000005 &    2 &    0 &   0  &    1 &    0 &    0 &   0  &    0 &    1 &    0 & ⋯    &    0 &    0 &    0 &    0 &    0 &    0 &    0 &    0 &   0  &    0\\\\\n",
       "\tENSG00000000419 & 1234 & 1847 & 973  & 1426 & 2759 & 1369 & 878  & 2437 & 2008 & 1698 & ⋯    & 2647 & 1925 & 5411 & 3482 & 2036 & 1941 & 1402 & 1723 & 337  & 1253\\\\\n",
       "\tENSG00000000457 & 1208 & 1160 & 587  &  625 &  650 & 1883 & 381  & 1870 &  694 &  624 & ⋯    & 1465 &  917 &  478 & 1510 &  780 &  869 &  978 &  908 & 327  &  548\\\\\n",
       "\tENSG00000000460 &  183 &  218 & 107  &  128 &  229 &  350 &  74  &  606 &  297 &   66 & ⋯    &  597 &  194 &  125 &  311 &  100 &  100 &  233 &  204 & 114  &  141\\\\\n",
       "\tENSG00000000938 &  190 &   37 &  21  &   25 &  124 &   41 &   9  &   70 &  259 &   35 & ⋯    &  137 &   50 &  320 &  132 &   43 &   10 &  138 &  113 & 303  &   11\\\\\n",
       "\\end{tabular}\n"
      ],
      "text/markdown": [
       "\n",
       "| <!--/--> | MMRF_1656_1_BM | MMRF_2501_1_BM | MMRF_1383_1_BM | MMRF_1466_1_BM | MMRF_2400_1_BM | MMRF_2549_1_BM | MMRF_1423_1_BM | MMRF_1328_1_BM | MMRF_2445_1_BM | MMRF_2286_1_BM | ⋯ | MMRF_2574_1_BM | MMRF_1876_1_BM | MMRF_1862_1_BM | MMRF_2118_1_BM | MMRF_1510_1_BM | MMRF_2498_1_BM | MMRF_1274_1_BM | MMRF_2265_1_BM | MMRF_1641_1_BM | MMRF_2440_1_BM | \n",
       "|---|---|---|---|---|---|\n",
       "| ENSG00000000003 |    9 |  594 | 693  |  182 |    1 |   34 | 140  |    2 |  162 |  537 | ⋯    | 1360 |  402 |  607 |   18 |  437 |  275 |   16 |   45 | 102  |    3 | \n",
       "| ENSG00000000005 |    2 |    0 |   0  |    1 |    0 |    0 |   0  |    0 |    1 |    0 | ⋯    |    0 |    0 |    0 |    0 |    0 |    0 |    0 |    0 |   0  |    0 | \n",
       "| ENSG00000000419 | 1234 | 1847 | 973  | 1426 | 2759 | 1369 | 878  | 2437 | 2008 | 1698 | ⋯    | 2647 | 1925 | 5411 | 3482 | 2036 | 1941 | 1402 | 1723 | 337  | 1253 | \n",
       "| ENSG00000000457 | 1208 | 1160 | 587  |  625 |  650 | 1883 | 381  | 1870 |  694 |  624 | ⋯    | 1465 |  917 |  478 | 1510 |  780 |  869 |  978 |  908 | 327  |  548 | \n",
       "| ENSG00000000460 |  183 |  218 | 107  |  128 |  229 |  350 |  74  |  606 |  297 |   66 | ⋯    |  597 |  194 |  125 |  311 |  100 |  100 |  233 |  204 | 114  |  141 | \n",
       "| ENSG00000000938 |  190 |   37 |  21  |   25 |  124 |   41 |   9  |   70 |  259 |   35 | ⋯    |  137 |   50 |  320 |  132 |   43 |   10 |  138 |  113 | 303  |   11 | \n",
       "\n",
       "\n"
      ],
      "text/plain": [
       "                MMRF_1656_1_BM MMRF_2501_1_BM MMRF_1383_1_BM MMRF_1466_1_BM\n",
       "ENSG00000000003    9            594           693             182          \n",
       "ENSG00000000005    2              0             0               1          \n",
       "ENSG00000000419 1234           1847           973            1426          \n",
       "ENSG00000000457 1208           1160           587             625          \n",
       "ENSG00000000460  183            218           107             128          \n",
       "ENSG00000000938  190             37            21              25          \n",
       "                MMRF_2400_1_BM MMRF_2549_1_BM MMRF_1423_1_BM MMRF_1328_1_BM\n",
       "ENSG00000000003    1             34           140               2          \n",
       "ENSG00000000005    0              0             0               0          \n",
       "ENSG00000000419 2759           1369           878            2437          \n",
       "ENSG00000000457  650           1883           381            1870          \n",
       "ENSG00000000460  229            350            74             606          \n",
       "ENSG00000000938  124             41             9              70          \n",
       "                MMRF_2445_1_BM MMRF_2286_1_BM ⋯ MMRF_2574_1_BM MMRF_1876_1_BM\n",
       "ENSG00000000003  162            537           ⋯ 1360            402          \n",
       "ENSG00000000005    1              0           ⋯    0              0          \n",
       "ENSG00000000419 2008           1698           ⋯ 2647           1925          \n",
       "ENSG00000000457  694            624           ⋯ 1465            917          \n",
       "ENSG00000000460  297             66           ⋯  597            194          \n",
       "ENSG00000000938  259             35           ⋯  137             50          \n",
       "                MMRF_1862_1_BM MMRF_2118_1_BM MMRF_1510_1_BM MMRF_2498_1_BM\n",
       "ENSG00000000003  607             18            437            275          \n",
       "ENSG00000000005    0              0              0              0          \n",
       "ENSG00000000419 5411           3482           2036           1941          \n",
       "ENSG00000000457  478           1510            780            869          \n",
       "ENSG00000000460  125            311            100            100          \n",
       "ENSG00000000938  320            132             43             10          \n",
       "                MMRF_1274_1_BM MMRF_2265_1_BM MMRF_1641_1_BM MMRF_2440_1_BM\n",
       "ENSG00000000003   16             45           102               3          \n",
       "ENSG00000000005    0              0             0               0          \n",
       "ENSG00000000419 1402           1723           337            1253          \n",
       "ENSG00000000457  978            908           327             548          \n",
       "ENSG00000000460  233            204           114             141          \n",
       "ENSG00000000938  138            113           303              11          "
      ]
     },
     "metadata": {},
     "output_type": "display_data"
    }
   ],
   "source": [
    "MM_patients_trans = data.frame(fread(\"IA13a.structural.variants.annot.translocations.clean.maxHom0.8.minMap0.2.clonality.readRange10000bp.cnvRange2000bp.common.txt\"))\n",
    "MM_patient_trans_ids = MM_patients_trans[,'sample']\n",
    "keepMYC = as.logical(MM_patients_trans[,'t.MYC.'])\n",
    "MM_patients_trans_MYC = MM_patient_trans_ids[keepMYC]\n",
    "temp = colnames(MM_patients) %in% MM_patients_trans_MYC\n",
    "MM_patients_trans_MYC = MM_patients[,temp]\n",
    "head(MM_patients_trans_MYC)\n",
    "MM_combined_MYC = \n",
    "#colnames(MM_patients_trans_MYC) %in% MM_patient_trans_ids[keepMYC]\n",
    "#length(MM_patients_trans_MYC[2,])\n",
    "#head(temp)\n",
    "#sum(temp)\n",
    "#sum(keepMYC)\n",
    "#length(unique(MM_patient_trans_ids[keepMYC]))\n",
    "#MM_patients_trans_MYC = unique(MM_patients_trans_MYC)\n",
    "#MM_patients_trans_MYC = MM_patients[,MM_patients_trans_MYC]\n",
    "#head(MM_patients_trans_MYC)"
   ]
  },
  {
   "cell_type": "code",
   "execution_count": 36,
   "metadata": {},
   "outputs": [
    {
     "data": {
      "text/html": [
       "<table>\n",
       "<thead><tr><th></th><th scope=col>MMRF_2815_1_BM</th><th scope=col>MMRF_2636_1_BM</th><th scope=col>MMRF_1572_1_BM</th><th scope=col>MMRF_1391_1_BM</th><th scope=col>MMRF_1785_1_BM</th><th scope=col>MMRF_2621_1_BM</th><th scope=col>MMRF_2203_1_BM</th><th scope=col>MMRF_2694_1_BM</th><th scope=col>MMRF_2238_1_BM</th><th scope=col>MMRF_1627_1_BM</th><th scope=col>⋯</th><th scope=col>MMRF_1497_1_BM</th><th scope=col>MMRF_1324_1_BM</th><th scope=col>MMRF_1216_1_BM</th><th scope=col>MMRF_1359_1_BM</th><th scope=col>MMRF_2220_1_BM</th><th scope=col>MMRF_1613_1_BM</th><th scope=col>MMRF_2272_1_BM</th><th scope=col>MMRF_2176_1_BM</th><th scope=col>MMRF_2118_1_BM</th><th scope=col>MMRF_2799_1_BM</th></tr></thead>\n",
       "<tbody>\n",
       "\t<tr><th scope=row>ENSG00000000003</th><td>  85</td><td> 472</td><td> 820</td><td>456 </td><td> 899</td><td>   1</td><td>1537</td><td> 826</td><td>   2</td><td> 256</td><td>⋯   </td><td> 481</td><td>   5</td><td>   0</td><td>   2</td><td>1652</td><td>  6 </td><td> 116</td><td>   2</td><td>  18</td><td>  49</td></tr>\n",
       "\t<tr><th scope=row>ENSG00000000005</th><td>   0</td><td>   0</td><td>   0</td><td>  0 </td><td>   0</td><td>   0</td><td>   0</td><td>   0</td><td>   0</td><td>   0</td><td>⋯   </td><td>   0</td><td>   0</td><td>   0</td><td>   0</td><td>   0</td><td>  0 </td><td>   0</td><td>   0</td><td>   0</td><td>   0</td></tr>\n",
       "\t<tr><th scope=row>ENSG00000000419</th><td>2303</td><td>2057</td><td>1618</td><td>902 </td><td>1466</td><td>2504</td><td>2366</td><td>1519</td><td>1772</td><td>1797</td><td>⋯   </td><td>1802</td><td>1686</td><td> 928</td><td>1455</td><td>1736</td><td>885 </td><td>2408</td><td>1327</td><td>3482</td><td>2537</td></tr>\n",
       "\t<tr><th scope=row>ENSG00000000457</th><td> 203</td><td> 591</td><td> 974</td><td>592 </td><td> 759</td><td>1653</td><td> 315</td><td> 626</td><td> 584</td><td> 967</td><td>⋯   </td><td> 356</td><td> 895</td><td>1231</td><td>1511</td><td> 856</td><td>753 </td><td>1119</td><td> 398</td><td>1510</td><td> 220</td></tr>\n",
       "\t<tr><th scope=row>ENSG00000000460</th><td>  31</td><td>  48</td><td> 363</td><td>162 </td><td> 306</td><td>1094</td><td> 150</td><td> 261</td><td> 126</td><td> 362</td><td>⋯   </td><td>  56</td><td> 242</td><td> 348</td><td> 955</td><td> 109</td><td>217 </td><td> 557</td><td> 104</td><td> 311</td><td>  50</td></tr>\n",
       "\t<tr><th scope=row>ENSG00000000938</th><td> 119</td><td>  42</td><td>  55</td><td> 20 </td><td>  12</td><td> 446</td><td>  26</td><td> 100</td><td> 307</td><td> 170</td><td>⋯   </td><td>  41</td><td>  54</td><td>  36</td><td>  18</td><td>  14</td><td>  4 </td><td> 719</td><td>  17</td><td> 132</td><td>  46</td></tr>\n",
       "</tbody>\n",
       "</table>\n"
      ],
      "text/latex": [
       "\\begin{tabular}{r|lllllllllllllllllllllllllllllllllllllllllllllllllllllllllllllllllllllll}\n",
       "  & MMRF\\_2815\\_1\\_BM & MMRF\\_2636\\_1\\_BM & MMRF\\_1572\\_1\\_BM & MMRF\\_1391\\_1\\_BM & MMRF\\_1785\\_1\\_BM & MMRF\\_2621\\_1\\_BM & MMRF\\_2203\\_1\\_BM & MMRF\\_2694\\_1\\_BM & MMRF\\_2238\\_1\\_BM & MMRF\\_1627\\_1\\_BM & ⋯ & MMRF\\_1497\\_1\\_BM & MMRF\\_1324\\_1\\_BM & MMRF\\_1216\\_1\\_BM & MMRF\\_1359\\_1\\_BM & MMRF\\_2220\\_1\\_BM & MMRF\\_1613\\_1\\_BM & MMRF\\_2272\\_1\\_BM & MMRF\\_2176\\_1\\_BM & MMRF\\_2118\\_1\\_BM & MMRF\\_2799\\_1\\_BM\\\\\n",
       "\\hline\n",
       "\tENSG00000000003 &   85 &  472 &  820 & 456  &  899 &    1 & 1537 &  826 &    2 &  256 & ⋯    &  481 &    5 &    0 &    2 & 1652 &   6  &  116 &    2 &   18 &   49\\\\\n",
       "\tENSG00000000005 &    0 &    0 &    0 &   0  &    0 &    0 &    0 &    0 &    0 &    0 & ⋯    &    0 &    0 &    0 &    0 &    0 &   0  &    0 &    0 &    0 &    0\\\\\n",
       "\tENSG00000000419 & 2303 & 2057 & 1618 & 902  & 1466 & 2504 & 2366 & 1519 & 1772 & 1797 & ⋯    & 1802 & 1686 &  928 & 1455 & 1736 & 885  & 2408 & 1327 & 3482 & 2537\\\\\n",
       "\tENSG00000000457 &  203 &  591 &  974 & 592  &  759 & 1653 &  315 &  626 &  584 &  967 & ⋯    &  356 &  895 & 1231 & 1511 &  856 & 753  & 1119 &  398 & 1510 &  220\\\\\n",
       "\tENSG00000000460 &   31 &   48 &  363 & 162  &  306 & 1094 &  150 &  261 &  126 &  362 & ⋯    &   56 &  242 &  348 &  955 &  109 & 217  &  557 &  104 &  311 &   50\\\\\n",
       "\tENSG00000000938 &  119 &   42 &   55 &  20  &   12 &  446 &   26 &  100 &  307 &  170 & ⋯    &   41 &   54 &   36 &   18 &   14 &   4  &  719 &   17 &  132 &   46\\\\\n",
       "\\end{tabular}\n"
      ],
      "text/markdown": [
       "\n",
       "| <!--/--> | MMRF_2815_1_BM | MMRF_2636_1_BM | MMRF_1572_1_BM | MMRF_1391_1_BM | MMRF_1785_1_BM | MMRF_2621_1_BM | MMRF_2203_1_BM | MMRF_2694_1_BM | MMRF_2238_1_BM | MMRF_1627_1_BM | ⋯ | MMRF_1497_1_BM | MMRF_1324_1_BM | MMRF_1216_1_BM | MMRF_1359_1_BM | MMRF_2220_1_BM | MMRF_1613_1_BM | MMRF_2272_1_BM | MMRF_2176_1_BM | MMRF_2118_1_BM | MMRF_2799_1_BM | \n",
       "|---|---|---|---|---|---|\n",
       "| ENSG00000000003 |   85 |  472 |  820 | 456  |  899 |    1 | 1537 |  826 |    2 |  256 | ⋯    |  481 |    5 |    0 |    2 | 1652 |   6  |  116 |    2 |   18 |   49 | \n",
       "| ENSG00000000005 |    0 |    0 |    0 |   0  |    0 |    0 |    0 |    0 |    0 |    0 | ⋯    |    0 |    0 |    0 |    0 |    0 |   0  |    0 |    0 |    0 |    0 | \n",
       "| ENSG00000000419 | 2303 | 2057 | 1618 | 902  | 1466 | 2504 | 2366 | 1519 | 1772 | 1797 | ⋯    | 1802 | 1686 |  928 | 1455 | 1736 | 885  | 2408 | 1327 | 3482 | 2537 | \n",
       "| ENSG00000000457 |  203 |  591 |  974 | 592  |  759 | 1653 |  315 |  626 |  584 |  967 | ⋯    |  356 |  895 | 1231 | 1511 |  856 | 753  | 1119 |  398 | 1510 |  220 | \n",
       "| ENSG00000000460 |   31 |   48 |  363 | 162  |  306 | 1094 |  150 |  261 |  126 |  362 | ⋯    |   56 |  242 |  348 |  955 |  109 | 217  |  557 |  104 |  311 |   50 | \n",
       "| ENSG00000000938 |  119 |   42 |   55 |  20  |   12 |  446 |   26 |  100 |  307 |  170 | ⋯    |   41 |   54 |   36 |   18 |   14 |   4  |  719 |   17 |  132 |   46 | \n",
       "\n",
       "\n"
      ],
      "text/plain": [
       "                MMRF_2815_1_BM MMRF_2636_1_BM MMRF_1572_1_BM MMRF_1391_1_BM\n",
       "ENSG00000000003   85            472            820           456           \n",
       "ENSG00000000005    0              0              0             0           \n",
       "ENSG00000000419 2303           2057           1618           902           \n",
       "ENSG00000000457  203            591            974           592           \n",
       "ENSG00000000460   31             48            363           162           \n",
       "ENSG00000000938  119             42             55            20           \n",
       "                MMRF_1785_1_BM MMRF_2621_1_BM MMRF_2203_1_BM MMRF_2694_1_BM\n",
       "ENSG00000000003  899              1           1537            826          \n",
       "ENSG00000000005    0              0              0              0          \n",
       "ENSG00000000419 1466           2504           2366           1519          \n",
       "ENSG00000000457  759           1653            315            626          \n",
       "ENSG00000000460  306           1094            150            261          \n",
       "ENSG00000000938   12            446             26            100          \n",
       "                MMRF_2238_1_BM MMRF_1627_1_BM ⋯ MMRF_1497_1_BM MMRF_1324_1_BM\n",
       "ENSG00000000003    2            256           ⋯  481              5          \n",
       "ENSG00000000005    0              0           ⋯    0              0          \n",
       "ENSG00000000419 1772           1797           ⋯ 1802           1686          \n",
       "ENSG00000000457  584            967           ⋯  356            895          \n",
       "ENSG00000000460  126            362           ⋯   56            242          \n",
       "ENSG00000000938  307            170           ⋯   41             54          \n",
       "                MMRF_1216_1_BM MMRF_1359_1_BM MMRF_2220_1_BM MMRF_1613_1_BM\n",
       "ENSG00000000003    0              2           1652             6           \n",
       "ENSG00000000005    0              0              0             0           \n",
       "ENSG00000000419  928           1455           1736           885           \n",
       "ENSG00000000457 1231           1511            856           753           \n",
       "ENSG00000000460  348            955            109           217           \n",
       "ENSG00000000938   36             18             14             4           \n",
       "                MMRF_2272_1_BM MMRF_2176_1_BM MMRF_2118_1_BM MMRF_2799_1_BM\n",
       "ENSG00000000003  116              2             18             49          \n",
       "ENSG00000000005    0              0              0              0          \n",
       "ENSG00000000419 2408           1327           3482           2537          \n",
       "ENSG00000000457 1119            398           1510            220          \n",
       "ENSG00000000460  557            104            311             50          \n",
       "ENSG00000000938  719             17            132             46          "
      ]
     },
     "metadata": {},
     "output_type": "display_data"
    },
    {
     "data": {
      "text/html": [
       "71"
      ],
      "text/latex": [
       "71"
      ],
      "text/markdown": [
       "71"
      ],
      "text/plain": [
       "[1] 71"
      ]
     },
     "metadata": {},
     "output_type": "display_data"
    }
   ],
   "source": [
    "keep414 = as.logical(MM_patients_trans[,'t.4.14.'])\n",
    "MM_patients_trans_414 = MM_patient_trans_ids[keep414]\n",
    "temp = colnames(MM_patients) %in% MM_patients_trans_414\n",
    "MM_patients_trans_414 = MM_patients[,temp]\n",
    "head(MM_patients_trans_414)\n",
    "length(MM_patients_trans_414[2,])"
   ]
  },
  {
   "cell_type": "code",
   "execution_count": 37,
   "metadata": {},
   "outputs": [
    {
     "data": {
      "text/html": [
       "<table>\n",
       "<thead><tr><th></th><th scope=col>MMRF_2801_1_BM</th><th scope=col>MMRF_2718_1_BM</th><th scope=col>MMRF_1439_1_BM</th><th scope=col>MMRF_1261_1_BM</th><th scope=col>MMRF_2173_1_BM</th><th scope=col>MMRF_1865_1_BM</th><th scope=col>MMRF_2639_1_BM</th><th scope=col>MMRF_2140_1_BM</th><th scope=col>MMRF_1886_1_BM</th><th scope=col>MMRF_1787_1_BM</th><th scope=col>⋯</th><th scope=col>MMRF_2654_1_BM</th><th scope=col>MMRF_2201_1_BM</th><th scope=col>MMRF_1556_1_BM</th><th scope=col>MMRF_1580_1_BM</th><th scope=col>MMRF_1542_1_BM</th><th scope=col>MMRF_1773_1_BM</th><th scope=col>MMRF_1286_1_BM</th><th scope=col>MMRF_2499_1_BM</th><th scope=col>MMRF_1862_1_BM</th><th scope=col>MMRF_1539_1_BM</th></tr></thead>\n",
       "<tbody>\n",
       "\t<tr><th scope=row>ENSG00000000003</th><td>  17</td><td> 999</td><td>   2</td><td>   6</td><td>  19</td><td>  10</td><td> 207</td><td>  12</td><td>  18</td><td>   2</td><td>⋯   </td><td>   7</td><td>  62</td><td>  20</td><td> 991</td><td>  14</td><td>   8</td><td> 809</td><td>  69</td><td> 607</td><td>1615</td></tr>\n",
       "\t<tr><th scope=row>ENSG00000000005</th><td>   1</td><td>   0</td><td>   0</td><td>   0</td><td>   0</td><td>   0</td><td>   0</td><td>   0</td><td>   0</td><td>   0</td><td>⋯   </td><td>   0</td><td>   0</td><td>   0</td><td>   0</td><td>   0</td><td>   0</td><td>   0</td><td>   1</td><td>   0</td><td>   0</td></tr>\n",
       "\t<tr><th scope=row>ENSG00000000419</th><td>1495</td><td>3271</td><td>2486</td><td>1882</td><td>2031</td><td>1273</td><td>1844</td><td>2266</td><td>1302</td><td>1959</td><td>⋯   </td><td>3154</td><td>3107</td><td>4159</td><td>2532</td><td>2822</td><td>4693</td><td>2827</td><td>1052</td><td>5411</td><td>2242</td></tr>\n",
       "\t<tr><th scope=row>ENSG00000000457</th><td> 231</td><td> 809</td><td> 884</td><td>1511</td><td> 496</td><td> 583</td><td> 215</td><td> 755</td><td>1088</td><td>1432</td><td>⋯   </td><td> 221</td><td>1139</td><td>1234</td><td>1033</td><td> 945</td><td> 745</td><td>1207</td><td> 494</td><td> 478</td><td>1081</td></tr>\n",
       "\t<tr><th scope=row>ENSG00000000460</th><td>  87</td><td> 319</td><td> 398</td><td> 428</td><td> 165</td><td> 122</td><td> 121</td><td> 200</td><td> 324</td><td> 299</td><td>⋯   </td><td>  56</td><td> 542</td><td> 402</td><td> 422</td><td> 213</td><td> 223</td><td> 436</td><td> 162</td><td> 125</td><td> 475</td></tr>\n",
       "\t<tr><th scope=row>ENSG00000000938</th><td> 318</td><td> 105</td><td>  53</td><td>  30</td><td>  22</td><td>   5</td><td> 243</td><td>  51</td><td>  65</td><td>  15</td><td>⋯   </td><td>  41</td><td>  90</td><td> 350</td><td> 311</td><td> 232</td><td>  62</td><td>  39</td><td> 548</td><td> 320</td><td>  17</td></tr>\n",
       "</tbody>\n",
       "</table>\n"
      ],
      "text/latex": [
       "\\begin{tabular}{r|lllllllllllllllllllllllllllllllllllllllllllllllllllllllllllllllllllllllllllllllllllllllllllllllllllllllllllll}\n",
       "  & MMRF\\_2801\\_1\\_BM & MMRF\\_2718\\_1\\_BM & MMRF\\_1439\\_1\\_BM & MMRF\\_1261\\_1\\_BM & MMRF\\_2173\\_1\\_BM & MMRF\\_1865\\_1\\_BM & MMRF\\_2639\\_1\\_BM & MMRF\\_2140\\_1\\_BM & MMRF\\_1886\\_1\\_BM & MMRF\\_1787\\_1\\_BM & ⋯ & MMRF\\_2654\\_1\\_BM & MMRF\\_2201\\_1\\_BM & MMRF\\_1556\\_1\\_BM & MMRF\\_1580\\_1\\_BM & MMRF\\_1542\\_1\\_BM & MMRF\\_1773\\_1\\_BM & MMRF\\_1286\\_1\\_BM & MMRF\\_2499\\_1\\_BM & MMRF\\_1862\\_1\\_BM & MMRF\\_1539\\_1\\_BM\\\\\n",
       "\\hline\n",
       "\tENSG00000000003 &   17 &  999 &    2 &    6 &   19 &   10 &  207 &   12 &   18 &    2 & ⋯    &    7 &   62 &   20 &  991 &   14 &    8 &  809 &   69 &  607 & 1615\\\\\n",
       "\tENSG00000000005 &    1 &    0 &    0 &    0 &    0 &    0 &    0 &    0 &    0 &    0 & ⋯    &    0 &    0 &    0 &    0 &    0 &    0 &    0 &    1 &    0 &    0\\\\\n",
       "\tENSG00000000419 & 1495 & 3271 & 2486 & 1882 & 2031 & 1273 & 1844 & 2266 & 1302 & 1959 & ⋯    & 3154 & 3107 & 4159 & 2532 & 2822 & 4693 & 2827 & 1052 & 5411 & 2242\\\\\n",
       "\tENSG00000000457 &  231 &  809 &  884 & 1511 &  496 &  583 &  215 &  755 & 1088 & 1432 & ⋯    &  221 & 1139 & 1234 & 1033 &  945 &  745 & 1207 &  494 &  478 & 1081\\\\\n",
       "\tENSG00000000460 &   87 &  319 &  398 &  428 &  165 &  122 &  121 &  200 &  324 &  299 & ⋯    &   56 &  542 &  402 &  422 &  213 &  223 &  436 &  162 &  125 &  475\\\\\n",
       "\tENSG00000000938 &  318 &  105 &   53 &   30 &   22 &    5 &  243 &   51 &   65 &   15 & ⋯    &   41 &   90 &  350 &  311 &  232 &   62 &   39 &  548 &  320 &   17\\\\\n",
       "\\end{tabular}\n"
      ],
      "text/markdown": [
       "\n",
       "| <!--/--> | MMRF_2801_1_BM | MMRF_2718_1_BM | MMRF_1439_1_BM | MMRF_1261_1_BM | MMRF_2173_1_BM | MMRF_1865_1_BM | MMRF_2639_1_BM | MMRF_2140_1_BM | MMRF_1886_1_BM | MMRF_1787_1_BM | ⋯ | MMRF_2654_1_BM | MMRF_2201_1_BM | MMRF_1556_1_BM | MMRF_1580_1_BM | MMRF_1542_1_BM | MMRF_1773_1_BM | MMRF_1286_1_BM | MMRF_2499_1_BM | MMRF_1862_1_BM | MMRF_1539_1_BM | \n",
       "|---|---|---|---|---|---|\n",
       "| ENSG00000000003 |   17 |  999 |    2 |    6 |   19 |   10 |  207 |   12 |   18 |    2 | ⋯    |    7 |   62 |   20 |  991 |   14 |    8 |  809 |   69 |  607 | 1615 | \n",
       "| ENSG00000000005 |    1 |    0 |    0 |    0 |    0 |    0 |    0 |    0 |    0 |    0 | ⋯    |    0 |    0 |    0 |    0 |    0 |    0 |    0 |    1 |    0 |    0 | \n",
       "| ENSG00000000419 | 1495 | 3271 | 2486 | 1882 | 2031 | 1273 | 1844 | 2266 | 1302 | 1959 | ⋯    | 3154 | 3107 | 4159 | 2532 | 2822 | 4693 | 2827 | 1052 | 5411 | 2242 | \n",
       "| ENSG00000000457 |  231 |  809 |  884 | 1511 |  496 |  583 |  215 |  755 | 1088 | 1432 | ⋯    |  221 | 1139 | 1234 | 1033 |  945 |  745 | 1207 |  494 |  478 | 1081 | \n",
       "| ENSG00000000460 |   87 |  319 |  398 |  428 |  165 |  122 |  121 |  200 |  324 |  299 | ⋯    |   56 |  542 |  402 |  422 |  213 |  223 |  436 |  162 |  125 |  475 | \n",
       "| ENSG00000000938 |  318 |  105 |   53 |   30 |   22 |    5 |  243 |   51 |   65 |   15 | ⋯    |   41 |   90 |  350 |  311 |  232 |   62 |   39 |  548 |  320 |   17 | \n",
       "\n",
       "\n"
      ],
      "text/plain": [
       "                MMRF_2801_1_BM MMRF_2718_1_BM MMRF_1439_1_BM MMRF_1261_1_BM\n",
       "ENSG00000000003   17            999              2              6          \n",
       "ENSG00000000005    1              0              0              0          \n",
       "ENSG00000000419 1495           3271           2486           1882          \n",
       "ENSG00000000457  231            809            884           1511          \n",
       "ENSG00000000460   87            319            398            428          \n",
       "ENSG00000000938  318            105             53             30          \n",
       "                MMRF_2173_1_BM MMRF_1865_1_BM MMRF_2639_1_BM MMRF_2140_1_BM\n",
       "ENSG00000000003   19             10            207             12          \n",
       "ENSG00000000005    0              0              0              0          \n",
       "ENSG00000000419 2031           1273           1844           2266          \n",
       "ENSG00000000457  496            583            215            755          \n",
       "ENSG00000000460  165            122            121            200          \n",
       "ENSG00000000938   22              5            243             51          \n",
       "                MMRF_1886_1_BM MMRF_1787_1_BM ⋯ MMRF_2654_1_BM MMRF_2201_1_BM\n",
       "ENSG00000000003   18              2           ⋯    7             62          \n",
       "ENSG00000000005    0              0           ⋯    0              0          \n",
       "ENSG00000000419 1302           1959           ⋯ 3154           3107          \n",
       "ENSG00000000457 1088           1432           ⋯  221           1139          \n",
       "ENSG00000000460  324            299           ⋯   56            542          \n",
       "ENSG00000000938   65             15           ⋯   41             90          \n",
       "                MMRF_1556_1_BM MMRF_1580_1_BM MMRF_1542_1_BM MMRF_1773_1_BM\n",
       "ENSG00000000003   20            991             14              8          \n",
       "ENSG00000000005    0              0              0              0          \n",
       "ENSG00000000419 4159           2532           2822           4693          \n",
       "ENSG00000000457 1234           1033            945            745          \n",
       "ENSG00000000460  402            422            213            223          \n",
       "ENSG00000000938  350            311            232             62          \n",
       "                MMRF_1286_1_BM MMRF_2499_1_BM MMRF_1862_1_BM MMRF_1539_1_BM\n",
       "ENSG00000000003  809             69            607           1615          \n",
       "ENSG00000000005    0              1              0              0          \n",
       "ENSG00000000419 2827           1052           5411           2242          \n",
       "ENSG00000000457 1207            494            478           1081          \n",
       "ENSG00000000460  436            162            125            475          \n",
       "ENSG00000000938   39            548            320             17          "
      ]
     },
     "metadata": {},
     "output_type": "display_data"
    },
    {
     "data": {
      "text/html": [
       "109"
      ],
      "text/latex": [
       "109"
      ],
      "text/markdown": [
       "109"
      ],
      "text/plain": [
       "[1] 109"
      ]
     },
     "metadata": {},
     "output_type": "display_data"
    }
   ],
   "source": [
    "keep1114 = as.logical(MM_patients_trans[,'t.11.14.'])\n",
    "MM_patients_trans_1114 = MM_patient_trans_ids[keep1114]\n",
    "temp = colnames(MM_patients) %in% MM_patients_trans_1114\n",
    "MM_patients_trans_1114 = MM_patients[,temp]\n",
    "head(MM_patients_trans_1114)\n",
    "length(MM_patients_trans_1114[2,])"
   ]
  },
  {
   "cell_type": "code",
   "execution_count": 38,
   "metadata": {},
   "outputs": [
    {
     "data": {
      "text/html": [
       "<table>\n",
       "<thead><tr><th></th><th scope=col>MMRF_1830_1_BM</th><th scope=col>MMRF_2076_1_BM</th><th scope=col>MMRF_1461_1_BM</th><th scope=col>MMRF_1625_1_BM</th><th scope=col>MMRF_1778_1_BM</th><th scope=col>MMRF_2153_1_BM</th><th scope=col>MMRF_1832_1_BM</th></tr></thead>\n",
       "<tbody>\n",
       "\t<tr><th scope=row>ENSG00000000003</th><td>   1 </td><td> 689 </td><td>  10 </td><td>154  </td><td>   3 </td><td>  381</td><td>   3 </td></tr>\n",
       "\t<tr><th scope=row>ENSG00000000005</th><td>   0 </td><td>   0 </td><td>   0 </td><td>  0  </td><td>   0 </td><td>    1</td><td>   0 </td></tr>\n",
       "\t<tr><th scope=row>ENSG00000000419</th><td>1862 </td><td>1437 </td><td>1882 </td><td>894  </td><td>2496 </td><td> 1471</td><td>1686 </td></tr>\n",
       "\t<tr><th scope=row>ENSG00000000457</th><td>1213 </td><td> 657 </td><td> 757 </td><td>488  </td><td>2156 </td><td>  763</td><td>1012 </td></tr>\n",
       "\t<tr><th scope=row>ENSG00000000460</th><td> 177 </td><td> 281 </td><td> 202 </td><td>199  </td><td> 737 </td><td>  169</td><td> 379 </td></tr>\n",
       "\t<tr><th scope=row>ENSG00000000938</th><td>  33 </td><td>  11 </td><td>  18 </td><td> 23  </td><td>   3 </td><td>15776</td><td>  68 </td></tr>\n",
       "</tbody>\n",
       "</table>\n"
      ],
      "text/latex": [
       "\\begin{tabular}{r|lllllll}\n",
       "  & MMRF\\_1830\\_1\\_BM & MMRF\\_2076\\_1\\_BM & MMRF\\_1461\\_1\\_BM & MMRF\\_1625\\_1\\_BM & MMRF\\_1778\\_1\\_BM & MMRF\\_2153\\_1\\_BM & MMRF\\_1832\\_1\\_BM\\\\\n",
       "\\hline\n",
       "\tENSG00000000003 &    1  &  689  &   10  & 154   &    3  &   381 &    3 \\\\\n",
       "\tENSG00000000005 &    0  &    0  &    0  &   0   &    0  &     1 &    0 \\\\\n",
       "\tENSG00000000419 & 1862  & 1437  & 1882  & 894   & 2496  &  1471 & 1686 \\\\\n",
       "\tENSG00000000457 & 1213  &  657  &  757  & 488   & 2156  &   763 & 1012 \\\\\n",
       "\tENSG00000000460 &  177  &  281  &  202  & 199   &  737  &   169 &  379 \\\\\n",
       "\tENSG00000000938 &   33  &   11  &   18  &  23   &    3  & 15776 &   68 \\\\\n",
       "\\end{tabular}\n"
      ],
      "text/markdown": [
       "\n",
       "| <!--/--> | MMRF_1830_1_BM | MMRF_2076_1_BM | MMRF_1461_1_BM | MMRF_1625_1_BM | MMRF_1778_1_BM | MMRF_2153_1_BM | MMRF_1832_1_BM | \n",
       "|---|---|---|---|---|---|\n",
       "| ENSG00000000003 |    1  |  689  |   10  | 154   |    3  |   381 |    3  | \n",
       "| ENSG00000000005 |    0  |    0  |    0  |   0   |    0  |     1 |    0  | \n",
       "| ENSG00000000419 | 1862  | 1437  | 1882  | 894   | 2496  |  1471 | 1686  | \n",
       "| ENSG00000000457 | 1213  |  657  |  757  | 488   | 2156  |   763 | 1012  | \n",
       "| ENSG00000000460 |  177  |  281  |  202  | 199   |  737  |   169 |  379  | \n",
       "| ENSG00000000938 |   33  |   11  |   18  |  23   |    3  | 15776 |   68  | \n",
       "\n",
       "\n"
      ],
      "text/plain": [
       "                MMRF_1830_1_BM MMRF_2076_1_BM MMRF_1461_1_BM MMRF_1625_1_BM\n",
       "ENSG00000000003    1            689             10           154           \n",
       "ENSG00000000005    0              0              0             0           \n",
       "ENSG00000000419 1862           1437           1882           894           \n",
       "ENSG00000000457 1213            657            757           488           \n",
       "ENSG00000000460  177            281            202           199           \n",
       "ENSG00000000938   33             11             18            23           \n",
       "                MMRF_1778_1_BM MMRF_2153_1_BM MMRF_1832_1_BM\n",
       "ENSG00000000003    3             381             3          \n",
       "ENSG00000000005    0               1             0          \n",
       "ENSG00000000419 2496            1471          1686          \n",
       "ENSG00000000457 2156             763          1012          \n",
       "ENSG00000000460  737             169           379          \n",
       "ENSG00000000938    3           15776            68          "
      ]
     },
     "metadata": {},
     "output_type": "display_data"
    },
    {
     "data": {
      "text/html": [
       "7"
      ],
      "text/latex": [
       "7"
      ],
      "text/markdown": [
       "7"
      ],
      "text/plain": [
       "[1] 7"
      ]
     },
     "metadata": {},
     "output_type": "display_data"
    }
   ],
   "source": [
    "keep1420 = as.logical(MM_patients_trans[,'t.14.20.'])\n",
    "MM_patients_trans_1420 = MM_patient_trans_ids[keep1420]\n",
    "temp = colnames(MM_patients) %in% MM_patients_trans_1420\n",
    "MM_patients_trans_1420 = MM_patients[,temp]\n",
    "head(MM_patients_trans_1420)\n",
    "length(MM_patients_trans_1420[2,])\n",
    "#no need to go further"
   ]
  },
  {
   "cell_type": "code",
   "execution_count": 39,
   "metadata": {},
   "outputs": [
    {
     "data": {
      "text/html": [
       "<table>\n",
       "<thead><tr><th></th><th scope=col>MMRF_1328_1_BM</th><th scope=col>MMRF_2041_1_BM</th><th scope=col>MMRF_1912_1_PB</th><th scope=col>MMRF_1491_1_BM</th><th scope=col>MMRF_1965_1_PB</th><th scope=col>MMRF_1403_1_BM</th><th scope=col>MMRF_1965_1_BM</th><th scope=col>MMRF_1683_1_BM</th><th scope=col>MMRF_1164_1_BM</th><th scope=col>MMRF_2306_1_BM</th><th scope=col>⋯</th><th scope=col>MMRF_1290_1_BM</th><th scope=col>MMRF_1454_1_BM</th><th scope=col>MMRF_1618_1_BM</th><th scope=col>MMRF_1586_1_BM</th><th scope=col>MMRF_2695_1_BM</th><th scope=col>MMRF_1855_1_BM</th><th scope=col>MMRF_1180_1_BM</th><th scope=col>MMRF_2794_1_BM</th><th scope=col>MMRF_2269_1_BM</th><th scope=col>MMRF_1971_1_BM</th></tr></thead>\n",
       "<tbody>\n",
       "\t<tr><th scope=row>ENSG00000000003</th><td>   2</td><td>  12</td><td>   0</td><td>   9</td><td>   6</td><td>   0</td><td>   3</td><td> 622</td><td> 385</td><td> 454</td><td>⋯   </td><td>  2 </td><td>   3</td><td> 970</td><td>   1</td><td>  81</td><td> 823</td><td>   3</td><td>   1</td><td>   1</td><td>   5</td></tr>\n",
       "\t<tr><th scope=row>ENSG00000000005</th><td>   0</td><td>   0</td><td>   0</td><td>   0</td><td>   0</td><td>   0</td><td>   0</td><td>   0</td><td>   0</td><td>   0</td><td>⋯   </td><td>  0 </td><td>   0</td><td>   0</td><td>   0</td><td>   0</td><td>   0</td><td>   0</td><td>   0</td><td>   0</td><td>   0</td></tr>\n",
       "\t<tr><th scope=row>ENSG00000000419</th><td>2437</td><td>3589</td><td>3083</td><td>4532</td><td>1486</td><td>1508</td><td>2120</td><td>1249</td><td>1535</td><td>2333</td><td>⋯   </td><td>878 </td><td>1117</td><td>1188</td><td>1788</td><td>3382</td><td>1712</td><td>1989</td><td>6024</td><td>2834</td><td>2990</td></tr>\n",
       "\t<tr><th scope=row>ENSG00000000457</th><td>1870</td><td>1120</td><td>1243</td><td> 899</td><td>1490</td><td> 750</td><td>1483</td><td>1272</td><td> 644</td><td> 491</td><td>⋯   </td><td>911 </td><td> 625</td><td> 618</td><td>1386</td><td> 507</td><td>1093</td><td> 585</td><td> 232</td><td> 287</td><td>1735</td></tr>\n",
       "\t<tr><th scope=row>ENSG00000000460</th><td> 606</td><td> 531</td><td> 276</td><td> 336</td><td> 399</td><td> 126</td><td> 495</td><td> 361</td><td> 262</td><td>  67</td><td>⋯   </td><td>222 </td><td> 137</td><td> 217</td><td> 458</td><td>  87</td><td> 333</td><td>  51</td><td>  42</td><td> 198</td><td> 573</td></tr>\n",
       "\t<tr><th scope=row>ENSG00000000938</th><td>  70</td><td>  21</td><td>1083</td><td> 102</td><td> 146</td><td>  32</td><td>  37</td><td>  29</td><td>1358</td><td>  26</td><td>⋯   </td><td> 22 </td><td> 115</td><td>  13</td><td>  65</td><td>  46</td><td>  15</td><td> 107</td><td> 130</td><td>  19</td><td>1857</td></tr>\n",
       "</tbody>\n",
       "</table>\n"
      ],
      "text/latex": [
       "\\begin{tabular}{r|lllllllllllllllllllllllllll}\n",
       "  & MMRF\\_1328\\_1\\_BM & MMRF\\_2041\\_1\\_BM & MMRF\\_1912\\_1\\_PB & MMRF\\_1491\\_1\\_BM & MMRF\\_1965\\_1\\_PB & MMRF\\_1403\\_1\\_BM & MMRF\\_1965\\_1\\_BM & MMRF\\_1683\\_1\\_BM & MMRF\\_1164\\_1\\_BM & MMRF\\_2306\\_1\\_BM & ⋯ & MMRF\\_1290\\_1\\_BM & MMRF\\_1454\\_1\\_BM & MMRF\\_1618\\_1\\_BM & MMRF\\_1586\\_1\\_BM & MMRF\\_2695\\_1\\_BM & MMRF\\_1855\\_1\\_BM & MMRF\\_1180\\_1\\_BM & MMRF\\_2794\\_1\\_BM & MMRF\\_2269\\_1\\_BM & MMRF\\_1971\\_1\\_BM\\\\\n",
       "\\hline\n",
       "\tENSG00000000003 &    2 &   12 &    0 &    9 &    6 &    0 &    3 &  622 &  385 &  454 & ⋯    &   2  &    3 &  970 &    1 &   81 &  823 &    3 &    1 &    1 &    5\\\\\n",
       "\tENSG00000000005 &    0 &    0 &    0 &    0 &    0 &    0 &    0 &    0 &    0 &    0 & ⋯    &   0  &    0 &    0 &    0 &    0 &    0 &    0 &    0 &    0 &    0\\\\\n",
       "\tENSG00000000419 & 2437 & 3589 & 3083 & 4532 & 1486 & 1508 & 2120 & 1249 & 1535 & 2333 & ⋯    & 878  & 1117 & 1188 & 1788 & 3382 & 1712 & 1989 & 6024 & 2834 & 2990\\\\\n",
       "\tENSG00000000457 & 1870 & 1120 & 1243 &  899 & 1490 &  750 & 1483 & 1272 &  644 &  491 & ⋯    & 911  &  625 &  618 & 1386 &  507 & 1093 &  585 &  232 &  287 & 1735\\\\\n",
       "\tENSG00000000460 &  606 &  531 &  276 &  336 &  399 &  126 &  495 &  361 &  262 &   67 & ⋯    & 222  &  137 &  217 &  458 &   87 &  333 &   51 &   42 &  198 &  573\\\\\n",
       "\tENSG00000000938 &   70 &   21 & 1083 &  102 &  146 &   32 &   37 &   29 & 1358 &   26 & ⋯    &  22  &  115 &   13 &   65 &   46 &   15 &  107 &  130 &   19 & 1857\\\\\n",
       "\\end{tabular}\n"
      ],
      "text/markdown": [
       "\n",
       "| <!--/--> | MMRF_1328_1_BM | MMRF_2041_1_BM | MMRF_1912_1_PB | MMRF_1491_1_BM | MMRF_1965_1_PB | MMRF_1403_1_BM | MMRF_1965_1_BM | MMRF_1683_1_BM | MMRF_1164_1_BM | MMRF_2306_1_BM | ⋯ | MMRF_1290_1_BM | MMRF_1454_1_BM | MMRF_1618_1_BM | MMRF_1586_1_BM | MMRF_2695_1_BM | MMRF_1855_1_BM | MMRF_1180_1_BM | MMRF_2794_1_BM | MMRF_2269_1_BM | MMRF_1971_1_BM | \n",
       "|---|---|---|---|---|---|\n",
       "| ENSG00000000003 |    2 |   12 |    0 |    9 |    6 |    0 |    3 |  622 |  385 |  454 | ⋯    |   2  |    3 |  970 |    1 |   81 |  823 |    3 |    1 |    1 |    5 | \n",
       "| ENSG00000000005 |    0 |    0 |    0 |    0 |    0 |    0 |    0 |    0 |    0 |    0 | ⋯    |   0  |    0 |    0 |    0 |    0 |    0 |    0 |    0 |    0 |    0 | \n",
       "| ENSG00000000419 | 2437 | 3589 | 3083 | 4532 | 1486 | 1508 | 2120 | 1249 | 1535 | 2333 | ⋯    | 878  | 1117 | 1188 | 1788 | 3382 | 1712 | 1989 | 6024 | 2834 | 2990 | \n",
       "| ENSG00000000457 | 1870 | 1120 | 1243 |  899 | 1490 |  750 | 1483 | 1272 |  644 |  491 | ⋯    | 911  |  625 |  618 | 1386 |  507 | 1093 |  585 |  232 |  287 | 1735 | \n",
       "| ENSG00000000460 |  606 |  531 |  276 |  336 |  399 |  126 |  495 |  361 |  262 |   67 | ⋯    | 222  |  137 |  217 |  458 |   87 |  333 |   51 |   42 |  198 |  573 | \n",
       "| ENSG00000000938 |   70 |   21 | 1083 |  102 |  146 |   32 |   37 |   29 | 1358 |   26 | ⋯    |  22  |  115 |   13 |   65 |   46 |   15 |  107 |  130 |   19 | 1857 | \n",
       "\n",
       "\n"
      ],
      "text/plain": [
       "                MMRF_1328_1_BM MMRF_2041_1_BM MMRF_1912_1_PB MMRF_1491_1_BM\n",
       "ENSG00000000003    2             12              0              9          \n",
       "ENSG00000000005    0              0              0              0          \n",
       "ENSG00000000419 2437           3589           3083           4532          \n",
       "ENSG00000000457 1870           1120           1243            899          \n",
       "ENSG00000000460  606            531            276            336          \n",
       "ENSG00000000938   70             21           1083            102          \n",
       "                MMRF_1965_1_PB MMRF_1403_1_BM MMRF_1965_1_BM MMRF_1683_1_BM\n",
       "ENSG00000000003    6              0              3            622          \n",
       "ENSG00000000005    0              0              0              0          \n",
       "ENSG00000000419 1486           1508           2120           1249          \n",
       "ENSG00000000457 1490            750           1483           1272          \n",
       "ENSG00000000460  399            126            495            361          \n",
       "ENSG00000000938  146             32             37             29          \n",
       "                MMRF_1164_1_BM MMRF_2306_1_BM ⋯ MMRF_1290_1_BM MMRF_1454_1_BM\n",
       "ENSG00000000003  385            454           ⋯   2               3          \n",
       "ENSG00000000005    0              0           ⋯   0               0          \n",
       "ENSG00000000419 1535           2333           ⋯ 878            1117          \n",
       "ENSG00000000457  644            491           ⋯ 911             625          \n",
       "ENSG00000000460  262             67           ⋯ 222             137          \n",
       "ENSG00000000938 1358             26           ⋯  22             115          \n",
       "                MMRF_1618_1_BM MMRF_1586_1_BM MMRF_2695_1_BM MMRF_1855_1_BM\n",
       "ENSG00000000003  970              1             81            823          \n",
       "ENSG00000000005    0              0              0              0          \n",
       "ENSG00000000419 1188           1788           3382           1712          \n",
       "ENSG00000000457  618           1386            507           1093          \n",
       "ENSG00000000460  217            458             87            333          \n",
       "ENSG00000000938   13             65             46             15          \n",
       "                MMRF_1180_1_BM MMRF_2794_1_BM MMRF_2269_1_BM MMRF_1971_1_BM\n",
       "ENSG00000000003    3              1              1              5          \n",
       "ENSG00000000005    0              0              0              0          \n",
       "ENSG00000000419 1989           6024           2834           2990          \n",
       "ENSG00000000457  585            232            287           1735          \n",
       "ENSG00000000460   51             42            198            573          \n",
       "ENSG00000000938  107            130             19           1857          "
      ]
     },
     "metadata": {},
     "output_type": "display_data"
    },
    {
     "data": {
      "text/html": [
       "27"
      ],
      "text/latex": [
       "27"
      ],
      "text/markdown": [
       "27"
      ],
      "text/plain": [
       "[1] 27"
      ]
     },
     "metadata": {},
     "output_type": "display_data"
    }
   ],
   "source": [
    "keep1416 = as.logical(MM_patients_trans[,'t.14.16.'])\n",
    "MM_patients_trans_1416 = MM_patient_trans_ids[keep1416]\n",
    "temp = colnames(MM_patients) %in% MM_patients_trans_1416\n",
    "MM_patients_trans_1416 = MM_patients[,temp]\n",
    "head(MM_patients_trans_1416)\n",
    "length(MM_patients_trans_1416[2,])"
   ]
  },
  {
   "cell_type": "code",
   "execution_count": null,
   "metadata": {},
   "outputs": [],
   "source": [
    "MM_cell_line_cpm = cpm(MM_cell_line[,-1])\n",
    "MM_patients_cpm = cpm(MM_patients)\n",
    "\n",
    "#getting counts per million for MM_cell_line, and MM_patients_cpm\n",
    "\n",
    "head(MM_cell_line_cpm)\n",
    "head(MM_patients_cpm)\n",
    "\n",
    "#checking output head"
   ]
  },
  {
   "cell_type": "code",
   "execution_count": null,
   "metadata": {},
   "outputs": [],
   "source": [
    "keep = rowSums(cpm(MM_combined[-1]) > 1) > 2\n",
    "MM_combined.filtered = MM_combined[keep, ]\n",
    "MM_patients_cpm = MM_patients_cpm[keep, ]\n",
    "\n",
    "#initial filtering of MM_combined to remove low count genes (genes with greater than \n",
    "    #1 million counts in more than 2 samples are kept)\n",
    "\n",
    "head(keep)\n",
    "head(MM_combined.filtered)\n",
    "\n",
    "#checking output head"
   ]
  },
  {
   "cell_type": "code",
   "execution_count": null,
   "metadata": {},
   "outputs": [],
   "source": [
    "MM_gene_names = MM_combined.filtered[, 1]\n",
    "MM_combined.filtered = MM_combined.filtered[, -1]\n",
    "\n",
    "#grabbing first colunmn of MM_combined.filtered (Gene_name), only those rows specified by ensembl intersect, \n",
    "    #removing Gene_name column from MM_combined.filtered\n",
    "\n",
    "head(MM_gene_names)\n",
    "head(MM_combined.filtered)"
   ]
  },
  {
   "cell_type": "code",
   "execution_count": null,
   "metadata": {},
   "outputs": [],
   "source": [
    "combined_annot = data.frame(colnames(MM_combined.filtered))\n",
    "combined_annot$type = \"Patient\"\n",
    "combined_annot$type[1:ncol(MM_cell_line[-1])] = \"Cell_Line\"\n",
    "rn = combined_annot[,1]\n",
    "combined_annot = combined_annot[-1]\n",
    "rownames(combined_annot) = rn\n",
    "setv = vst(as.matrix(round(MM_combined.filtered)))\n",
    "setv = newSeqExpressionSet(setv, phenoData = combined_annot)\n",
    "\n",
    "#utilizing varaince stabilization normalization method, vst(), then creating new seqExpressionSet object, \n",
    "    #using normalized counts\n",
    "\n",
    "symbols = c(rep(2, ncol(MM_cell_line[-1])), rep(1, ncol(MM_patients)))\n",
    "plotRLE(setv, outline=FALSE, ylim=c(-4, 4))\n",
    "affycoretools::plotPCA(setv, groupnames = c('Cell_Line', 'Patient'), \n",
    "                       pch = symbols, col = symbols, outside = TRUE)\n",
    "\n",
    "#plotting RLE to check for batch effects, still present but presumption is that VST makes genes more comparable"
   ]
  },
  {
   "cell_type": "code",
   "execution_count": null,
   "metadata": {},
   "outputs": [],
   "source": [
    "keepi = apply(MM_patients_cpm, 1, IQR)\n",
    "\n",
    "head(keepi)\n",
    "\n",
    "keepi = sort(keepi, decreasing = TRUE)\n",
    "\n",
    "tail(keepi[1:5000])\n",
    "\n",
    "keepi = apply(MM_patients_cpm, 1, IQR)\n",
    "keepi = keepi > 17\n",
    "head(keepi)"
   ]
  },
  {
   "cell_type": "code",
   "execution_count": null,
   "metadata": {},
   "outputs": [],
   "source": [
    "MM_combined.filtered = MM_combined.filtered[keepi, ]\n",
    "\n",
    "head(MM_combined.filtered)"
   ]
  },
  {
   "cell_type": "code",
   "execution_count": 27,
   "metadata": {},
   "outputs": [
    {
     "ename": "ERROR",
     "evalue": "Error in as.matrix(y): argument \"y\" is missing, with no default\n",
     "output_type": "error",
     "traceback": [
      "Error in as.matrix(y): argument \"y\" is missing, with no default\nTraceback:\n",
      "1. cpm()",
      "2. cpm.default()",
      "3. as.matrix(y)"
     ]
    }
   ],
   "source": [
    "MM_patients_cpm_MYC = cpm()"
   ]
  }
 ],
 "metadata": {
  "kernelspec": {
   "display_name": "R",
   "language": "R",
   "name": "ir"
  },
  "language_info": {
   "codemirror_mode": "r",
   "file_extension": ".r",
   "mimetype": "text/x-r-source",
   "name": "R",
   "pygments_lexer": "r",
   "version": "3.5.3"
  }
 },
 "nbformat": 4,
 "nbformat_minor": 2
}
